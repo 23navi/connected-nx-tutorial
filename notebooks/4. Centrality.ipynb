{
 "cells": [
  {
   "cell_type": "markdown",
   "metadata": {},
   "source": [
    "# Centrality\n",
    "## \"Who's the Boss?\"\n",
    "\n",
    "- Definition of Centrality\n",
    "- Examples (Medici family, trade example, etc.)\n",
    "- Compare and contrast popular centrality measures on dataset\n",
    "    - Degree\n",
    "    - Closeness\n",
    "    - Betweenness\n",
    "    - Eigenvector\n"
   ]
  },
  {
   "cell_type": "code",
   "execution_count": null,
   "metadata": {
    "collapsed": true
   },
   "outputs": [],
   "source": []
  }
 ],
 "metadata": {
  "kernelspec": {
   "display_name": "Python 3",
   "language": "python",
   "name": "python3"
  },
  "language_info": {
   "codemirror_mode": {
    "name": "ipython",
    "version": 3
   },
   "file_extension": ".py",
   "mimetype": "text/x-python",
   "name": "python",
   "nbconvert_exporter": "python",
   "pygments_lexer": "ipython3",
   "version": "3.5.0"
  }
 },
 "nbformat": 4,
 "nbformat_minor": 0
}
