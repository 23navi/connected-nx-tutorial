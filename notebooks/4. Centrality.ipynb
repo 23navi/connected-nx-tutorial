{
 "cells": [
  {
   "cell_type": "code",
   "execution_count": 2,
   "metadata": {
    "collapsed": false
   },
   "outputs": [
    {
     "ename": "ImportError",
     "evalue": "No module named 'watermark'",
     "output_type": "error",
     "traceback": [
      "\u001b[0;31m---------------------------------------------------------------------------\u001b[0m",
      "\u001b[0;31mImportError\u001b[0m                               Traceback (most recent call last)",
      "\u001b[0;32m<ipython-input-2-d060b1228b65>\u001b[0m in \u001b[0;36m<module>\u001b[0;34m()\u001b[0m\n\u001b[0;32m----> 1\u001b[0;31m \u001b[0mget_ipython\u001b[0m\u001b[0;34m(\u001b[0m\u001b[0;34m)\u001b[0m\u001b[0;34m.\u001b[0m\u001b[0mmagic\u001b[0m\u001b[0;34m(\u001b[0m\u001b[0;34m'reload_ext watermark'\u001b[0m\u001b[0;34m)\u001b[0m\u001b[0;34m\u001b[0m\u001b[0m\n\u001b[0m\u001b[1;32m      2\u001b[0m \u001b[0mget_ipython\u001b[0m\u001b[0;34m(\u001b[0m\u001b[0;34m)\u001b[0m\u001b[0;34m.\u001b[0m\u001b[0mmagic\u001b[0m\u001b[0;34m(\u001b[0m\u001b[0;34m'watermark -p pandas,networkx,numpy,matplotlib -v'\u001b[0m\u001b[0;34m)\u001b[0m\u001b[0;34m\u001b[0m\u001b[0m\n",
      "\u001b[0;32m/Users/RChew/anaconda/envs/py34/lib/python3.4/site-packages/IPython/core/interactiveshell.py\u001b[0m in \u001b[0;36mmagic\u001b[0;34m(self, arg_s)\u001b[0m\n\u001b[1;32m   2144\u001b[0m         \u001b[0mmagic_name\u001b[0m\u001b[0;34m,\u001b[0m \u001b[0m_\u001b[0m\u001b[0;34m,\u001b[0m \u001b[0mmagic_arg_s\u001b[0m \u001b[0;34m=\u001b[0m \u001b[0marg_s\u001b[0m\u001b[0;34m.\u001b[0m\u001b[0mpartition\u001b[0m\u001b[0;34m(\u001b[0m\u001b[0;34m' '\u001b[0m\u001b[0;34m)\u001b[0m\u001b[0;34m\u001b[0m\u001b[0m\n\u001b[1;32m   2145\u001b[0m         \u001b[0mmagic_name\u001b[0m \u001b[0;34m=\u001b[0m \u001b[0mmagic_name\u001b[0m\u001b[0;34m.\u001b[0m\u001b[0mlstrip\u001b[0m\u001b[0;34m(\u001b[0m\u001b[0mprefilter\u001b[0m\u001b[0;34m.\u001b[0m\u001b[0mESC_MAGIC\u001b[0m\u001b[0;34m)\u001b[0m\u001b[0;34m\u001b[0m\u001b[0m\n\u001b[0;32m-> 2146\u001b[0;31m         \u001b[0;32mreturn\u001b[0m \u001b[0mself\u001b[0m\u001b[0;34m.\u001b[0m\u001b[0mrun_line_magic\u001b[0m\u001b[0;34m(\u001b[0m\u001b[0mmagic_name\u001b[0m\u001b[0;34m,\u001b[0m \u001b[0mmagic_arg_s\u001b[0m\u001b[0;34m)\u001b[0m\u001b[0;34m\u001b[0m\u001b[0m\n\u001b[0m\u001b[1;32m   2147\u001b[0m \u001b[0;34m\u001b[0m\u001b[0m\n\u001b[1;32m   2148\u001b[0m     \u001b[0;31m#-------------------------------------------------------------------------\u001b[0m\u001b[0;34m\u001b[0m\u001b[0;34m\u001b[0m\u001b[0m\n",
      "\u001b[0;32m/Users/RChew/anaconda/envs/py34/lib/python3.4/site-packages/IPython/core/interactiveshell.py\u001b[0m in \u001b[0;36mrun_line_magic\u001b[0;34m(self, magic_name, line)\u001b[0m\n\u001b[1;32m   2065\u001b[0m                 \u001b[0mkwargs\u001b[0m\u001b[0;34m[\u001b[0m\u001b[0;34m'local_ns'\u001b[0m\u001b[0;34m]\u001b[0m \u001b[0;34m=\u001b[0m \u001b[0msys\u001b[0m\u001b[0;34m.\u001b[0m\u001b[0m_getframe\u001b[0m\u001b[0;34m(\u001b[0m\u001b[0mstack_depth\u001b[0m\u001b[0;34m)\u001b[0m\u001b[0;34m.\u001b[0m\u001b[0mf_locals\u001b[0m\u001b[0;34m\u001b[0m\u001b[0m\n\u001b[1;32m   2066\u001b[0m             \u001b[0;32mwith\u001b[0m \u001b[0mself\u001b[0m\u001b[0;34m.\u001b[0m\u001b[0mbuiltin_trap\u001b[0m\u001b[0;34m:\u001b[0m\u001b[0;34m\u001b[0m\u001b[0m\n\u001b[0;32m-> 2067\u001b[0;31m                 \u001b[0mresult\u001b[0m \u001b[0;34m=\u001b[0m \u001b[0mfn\u001b[0m\u001b[0;34m(\u001b[0m\u001b[0;34m*\u001b[0m\u001b[0margs\u001b[0m\u001b[0;34m,\u001b[0m\u001b[0;34m**\u001b[0m\u001b[0mkwargs\u001b[0m\u001b[0;34m)\u001b[0m\u001b[0;34m\u001b[0m\u001b[0m\n\u001b[0m\u001b[1;32m   2068\u001b[0m             \u001b[0;32mreturn\u001b[0m \u001b[0mresult\u001b[0m\u001b[0;34m\u001b[0m\u001b[0m\n\u001b[1;32m   2069\u001b[0m \u001b[0;34m\u001b[0m\u001b[0m\n",
      "\u001b[0;32m<decorator-gen-64>\u001b[0m in \u001b[0;36mreload_ext\u001b[0;34m(self, module_str)\u001b[0m\n",
      "\u001b[0;32m/Users/RChew/anaconda/envs/py34/lib/python3.4/site-packages/IPython/core/magic.py\u001b[0m in \u001b[0;36m<lambda>\u001b[0;34m(f, *a, **k)\u001b[0m\n\u001b[1;32m    186\u001b[0m     \u001b[0;31m# but it's overkill for just that one bit of state.\u001b[0m\u001b[0;34m\u001b[0m\u001b[0;34m\u001b[0m\u001b[0m\n\u001b[1;32m    187\u001b[0m     \u001b[0;32mdef\u001b[0m \u001b[0mmagic_deco\u001b[0m\u001b[0;34m(\u001b[0m\u001b[0marg\u001b[0m\u001b[0;34m)\u001b[0m\u001b[0;34m:\u001b[0m\u001b[0;34m\u001b[0m\u001b[0m\n\u001b[0;32m--> 188\u001b[0;31m         \u001b[0mcall\u001b[0m \u001b[0;34m=\u001b[0m \u001b[0;32mlambda\u001b[0m \u001b[0mf\u001b[0m\u001b[0;34m,\u001b[0m \u001b[0;34m*\u001b[0m\u001b[0ma\u001b[0m\u001b[0;34m,\u001b[0m \u001b[0;34m**\u001b[0m\u001b[0mk\u001b[0m\u001b[0;34m:\u001b[0m \u001b[0mf\u001b[0m\u001b[0;34m(\u001b[0m\u001b[0;34m*\u001b[0m\u001b[0ma\u001b[0m\u001b[0;34m,\u001b[0m \u001b[0;34m**\u001b[0m\u001b[0mk\u001b[0m\u001b[0;34m)\u001b[0m\u001b[0;34m\u001b[0m\u001b[0m\n\u001b[0m\u001b[1;32m    189\u001b[0m \u001b[0;34m\u001b[0m\u001b[0m\n\u001b[1;32m    190\u001b[0m         \u001b[0;32mif\u001b[0m \u001b[0mcallable\u001b[0m\u001b[0;34m(\u001b[0m\u001b[0marg\u001b[0m\u001b[0;34m)\u001b[0m\u001b[0;34m:\u001b[0m\u001b[0;34m\u001b[0m\u001b[0m\n",
      "\u001b[0;32m/Users/RChew/anaconda/envs/py34/lib/python3.4/site-packages/IPython/core/magics/extension.py\u001b[0m in \u001b[0;36mreload_ext\u001b[0;34m(self, module_str)\u001b[0m\n\u001b[1;32m     65\u001b[0m         \u001b[0;32mif\u001b[0m \u001b[0;32mnot\u001b[0m \u001b[0mmodule_str\u001b[0m\u001b[0;34m:\u001b[0m\u001b[0;34m\u001b[0m\u001b[0m\n\u001b[1;32m     66\u001b[0m             \u001b[0;32mraise\u001b[0m \u001b[0mUsageError\u001b[0m\u001b[0;34m(\u001b[0m\u001b[0;34m'Missing module name.'\u001b[0m\u001b[0;34m)\u001b[0m\u001b[0;34m\u001b[0m\u001b[0m\n\u001b[0;32m---> 67\u001b[0;31m         \u001b[0mself\u001b[0m\u001b[0;34m.\u001b[0m\u001b[0mshell\u001b[0m\u001b[0;34m.\u001b[0m\u001b[0mextension_manager\u001b[0m\u001b[0;34m.\u001b[0m\u001b[0mreload_extension\u001b[0m\u001b[0;34m(\u001b[0m\u001b[0mmodule_str\u001b[0m\u001b[0;34m)\u001b[0m\u001b[0;34m\u001b[0m\u001b[0m\n\u001b[0m",
      "\u001b[0;32m/Users/RChew/anaconda/envs/py34/lib/python3.4/site-packages/IPython/core/extensions.py\u001b[0m in \u001b[0;36mreload_extension\u001b[0;34m(self, module_str)\u001b[0m\n\u001b[1;32m    126\u001b[0m                 \u001b[0mself\u001b[0m\u001b[0;34m.\u001b[0m\u001b[0mloaded\u001b[0m\u001b[0;34m.\u001b[0m\u001b[0madd\u001b[0m\u001b[0;34m(\u001b[0m\u001b[0mmodule_str\u001b[0m\u001b[0;34m)\u001b[0m\u001b[0;34m\u001b[0m\u001b[0m\n\u001b[1;32m    127\u001b[0m         \u001b[0;32melse\u001b[0m\u001b[0;34m:\u001b[0m\u001b[0;34m\u001b[0m\u001b[0m\n\u001b[0;32m--> 128\u001b[0;31m             \u001b[0mself\u001b[0m\u001b[0;34m.\u001b[0m\u001b[0mload_extension\u001b[0m\u001b[0;34m(\u001b[0m\u001b[0mmodule_str\u001b[0m\u001b[0;34m)\u001b[0m\u001b[0;34m\u001b[0m\u001b[0m\n\u001b[0m\u001b[1;32m    129\u001b[0m \u001b[0;34m\u001b[0m\u001b[0m\n\u001b[1;32m    130\u001b[0m     \u001b[0;32mdef\u001b[0m \u001b[0m_call_load_ipython_extension\u001b[0m\u001b[0;34m(\u001b[0m\u001b[0mself\u001b[0m\u001b[0;34m,\u001b[0m \u001b[0mmod\u001b[0m\u001b[0;34m)\u001b[0m\u001b[0;34m:\u001b[0m\u001b[0;34m\u001b[0m\u001b[0m\n",
      "\u001b[0;32m/Users/RChew/anaconda/envs/py34/lib/python3.4/site-packages/IPython/core/extensions.py\u001b[0m in \u001b[0;36mload_extension\u001b[0;34m(self, module_str)\u001b[0m\n\u001b[1;32m     81\u001b[0m             \u001b[0;32mif\u001b[0m \u001b[0mmodule_str\u001b[0m \u001b[0;32mnot\u001b[0m \u001b[0;32min\u001b[0m \u001b[0msys\u001b[0m\u001b[0;34m.\u001b[0m\u001b[0mmodules\u001b[0m\u001b[0;34m:\u001b[0m\u001b[0;34m\u001b[0m\u001b[0m\n\u001b[1;32m     82\u001b[0m                 \u001b[0;32mwith\u001b[0m \u001b[0mprepended_to_syspath\u001b[0m\u001b[0;34m(\u001b[0m\u001b[0mself\u001b[0m\u001b[0;34m.\u001b[0m\u001b[0mipython_extension_dir\u001b[0m\u001b[0;34m)\u001b[0m\u001b[0;34m:\u001b[0m\u001b[0;34m\u001b[0m\u001b[0m\n\u001b[0;32m---> 83\u001b[0;31m                     \u001b[0m__import__\u001b[0m\u001b[0;34m(\u001b[0m\u001b[0mmodule_str\u001b[0m\u001b[0;34m)\u001b[0m\u001b[0;34m\u001b[0m\u001b[0m\n\u001b[0m\u001b[1;32m     84\u001b[0m             \u001b[0mmod\u001b[0m \u001b[0;34m=\u001b[0m \u001b[0msys\u001b[0m\u001b[0;34m.\u001b[0m\u001b[0mmodules\u001b[0m\u001b[0;34m[\u001b[0m\u001b[0mmodule_str\u001b[0m\u001b[0;34m]\u001b[0m\u001b[0;34m\u001b[0m\u001b[0m\n\u001b[1;32m     85\u001b[0m             \u001b[0;32mif\u001b[0m \u001b[0mself\u001b[0m\u001b[0;34m.\u001b[0m\u001b[0m_call_load_ipython_extension\u001b[0m\u001b[0;34m(\u001b[0m\u001b[0mmod\u001b[0m\u001b[0;34m)\u001b[0m\u001b[0;34m:\u001b[0m\u001b[0;34m\u001b[0m\u001b[0m\n",
      "\u001b[0;31mImportError\u001b[0m: No module named 'watermark'"
     ]
    }
   ],
   "source": [
    "%reload_ext watermark\n",
    "%watermark -p pandas,networkx,numpy,matplotlib -v"
   ]
  },
  {
   "cell_type": "markdown",
   "metadata": {},
   "source": [
    "# Centrality\n",
    "## \"Who's the Boss?\"\n",
    "\n",
    "- Definition of Centrality\n",
    "- Compare and contrast popular centrality measures on dataset\n",
    "    - Degree\n",
    "    - Closeness\n",
    "    - Betweenness\n",
    "    - Eigenvector\n"
   ]
  },
  {
   "cell_type": "code",
   "execution_count": 74,
   "metadata": {
    "collapsed": true
   },
   "outputs": [],
   "source": [
    "import networkx as nx\n",
    "import matplotlib.pyplot as plt # for plotting graphs\n",
    "%matplotlib inline"
   ]
  },
  {
   "cell_type": "code",
   "execution_count": 4,
   "metadata": {
    "collapsed": true
   },
   "outputs": [],
   "source": [
    "GA = nx.read_gexf('../data/ga_graph.gexf')"
   ]
  },
  {
   "cell_type": "markdown",
   "metadata": {},
   "source": [
    "## Degree Centrality\n",
    "\n",
    "__Degree__ is a basic way of understanding a node. Intuitively, the degree of a node is the number of other nodes to which it is connected.\n",
    "\n",
    "Let's find the degree of our main character `Grey`."
   ]
  },
  {
   "cell_type": "code",
   "execution_count": 12,
   "metadata": {
    "collapsed": false
   },
   "outputs": [
    {
     "data": {
      "text/plain": [
       "4"
      ]
     },
     "execution_count": 12,
     "metadata": {},
     "output_type": "execute_result"
    }
   ],
   "source": [
    "GA.degree(\"grey\")"
   ]
  },
  {
   "cell_type": "markdown",
   "metadata": {},
   "source": [
    "Likewise, we can find the degree of each cast member."
   ]
  },
  {
   "cell_type": "code",
   "execution_count": 7,
   "metadata": {
    "collapsed": false
   },
   "outputs": [
    {
     "data": {
      "text/plain": [
       "{'addison': 3,\n",
       " 'adele': 1,\n",
       " 'altman': 2,\n",
       " 'arizona': 1,\n",
       " 'avery': 1,\n",
       " 'bailey': 2,\n",
       " 'ben': 1,\n",
       " 'chief': 2,\n",
       " 'colin': 1,\n",
       " 'denny': 1,\n",
       " 'derek': 2,\n",
       " 'ellis grey': 2,\n",
       " 'finn': 1,\n",
       " 'grey': 4,\n",
       " 'hank': 1,\n",
       " 'izzie': 4,\n",
       " 'karev': 7,\n",
       " 'kepner': 1,\n",
       " 'lexi': 3,\n",
       " 'mrs. seabury': 1,\n",
       " 'nancy': 1,\n",
       " \"o'malley\": 4,\n",
       " 'olivia': 2,\n",
       " 'owen': 2,\n",
       " 'preston': 1,\n",
       " 'sloan': 5,\n",
       " 'steve': 1,\n",
       " 'susan grey': 1,\n",
       " 'thatch grey': 2,\n",
       " 'torres': 4,\n",
       " 'tucker': 1,\n",
       " 'yang': 3}"
      ]
     },
     "execution_count": 7,
     "metadata": {},
     "output_type": "execute_result"
    }
   ],
   "source": [
    "# See all of them (ok on this small graph)\n",
    "GA.degree()"
   ]
  },
  {
   "cell_type": "code",
   "execution_count": 10,
   "metadata": {
    "collapsed": false
   },
   "outputs": [
    {
     "data": {
      "text/plain": [
       "[('karev', 7), ('sloan', 5), ('grey', 4), ('izzie', 4), ('torres', 4)]"
      ]
     },
     "execution_count": 10,
     "metadata": {},
     "output_type": "execute_result"
    }
   ],
   "source": [
    "# Here's the top 5.\n",
    "sorted(GA.degree().items(), key=lambda x:x[1], reverse=True)[:5]"
   ]
  },
  {
   "cell_type": "markdown",
   "metadata": {},
   "source": [
    "While knowing the raw number is great, most centrality measures are _normalized_ between zero and one so that they can be more easily compared to one another.\n",
    "\n",
    "For the **degree centrality** measure, the normalized interpretion is really intuitive:  \n",
    "\n",
    "> _What percentage of nodes is this node connected to?_\n",
    "\n",
    "Or for our Grey's Anatomy example: \n",
    "\n",
    "> _What percentage of the cast has this character been invovled with?_\n",
    "\n",
    "\n",
    "NetworkX's degree centrality is calculated by taking the degree of the node and dividing by `n-1` where where `n` is the number of nodes in `G`.\n",
    "\n",
    "$ {C_D (u)} = \\frac{deg(u)}{{n-1}} $\n",
    "\n",
    "⚠️ __NOTE__: `In a directed graph, both in-degree and out-degree centrality can be calculated.`"
   ]
  },
  {
   "cell_type": "markdown",
   "metadata": {},
   "source": [
    "Let's calculate the degree centrality for `Grey`."
   ]
  },
  {
   "cell_type": "code",
   "execution_count": 69,
   "metadata": {
    "collapsed": false
   },
   "outputs": [
    {
     "name": "stdout",
     "output_type": "stream",
     "text": [
      "Calculated degree centrality for Grey: 0.12903225806451613\n",
      "Networkx degree centrality for Grey: 0.12903225806451613\n"
     ]
    },
    {
     "data": {
      "text/plain": [
       "'Values match, good job!'"
      ]
     },
     "execution_count": 69,
     "metadata": {},
     "output_type": "execute_result"
    }
   ],
   "source": [
    "# Degree for the 'Grey' node\n",
    "degree_grey = GA.degree(\"grey\")  # 4 romantic partners\n",
    "\n",
    "# Total number of nodes (excluding Grey) \n",
    "total_nodes_minus_grey = len(GA.nodes())-1  # 31 characters in the cast, excluding Grey\n",
    "\n",
    "# Degree centrality for Grey\n",
    "degree_centrality_grey = (degree_grey / total_nodes_minus_grey)\n",
    "print(\"Calculated degree centrality for Grey:\", degree_centrality_grey)\n",
    "\n",
    "# Double check\n",
    "print(\"Networkx degree centrality for Grey:\", nx.degree_centrality(GA)[\"grey\"])\n",
    "\n",
    "def check_equal(val1, val2):\n",
    "    assert (val1 == val2),\"Centrality measure calculated incorrectly!\"\n",
    "    return \"Values match, good job!\"\n",
    "\n",
    "check_equal(degree_centrality_grey, nx.degree_centrality(GA)[\"grey\"])"
   ]
  },
  {
   "cell_type": "markdown",
   "metadata": {},
   "source": [
    "Likewise, let's find the degree centrality for all characters."
   ]
  },
  {
   "cell_type": "code",
   "execution_count": 9,
   "metadata": {
    "collapsed": false
   },
   "outputs": [],
   "source": [
    "degree_centrality = nx.degree_centrality(GA)"
   ]
  },
  {
   "cell_type": "code",
   "execution_count": 10,
   "metadata": {
    "collapsed": false
   },
   "outputs": [
    {
     "data": {
      "text/plain": [
       "{'addison': 0.0967741935483871,\n",
       " 'adele': 0.03225806451612903,\n",
       " 'altman': 0.06451612903225806,\n",
       " 'arizona': 0.03225806451612903,\n",
       " 'avery': 0.03225806451612903,\n",
       " 'bailey': 0.06451612903225806,\n",
       " 'ben': 0.03225806451612903,\n",
       " 'chief': 0.06451612903225806,\n",
       " 'colin': 0.03225806451612903,\n",
       " 'denny': 0.03225806451612903,\n",
       " 'derek': 0.06451612903225806,\n",
       " 'ellis grey': 0.06451612903225806,\n",
       " 'finn': 0.03225806451612903,\n",
       " 'grey': 0.12903225806451613,\n",
       " 'hank': 0.03225806451612903,\n",
       " 'izzie': 0.12903225806451613,\n",
       " 'karev': 0.22580645161290322,\n",
       " 'kepner': 0.03225806451612903,\n",
       " 'lexi': 0.0967741935483871,\n",
       " 'mrs. seabury': 0.03225806451612903,\n",
       " 'nancy': 0.03225806451612903,\n",
       " \"o'malley\": 0.12903225806451613,\n",
       " 'olivia': 0.06451612903225806,\n",
       " 'owen': 0.06451612903225806,\n",
       " 'preston': 0.03225806451612903,\n",
       " 'sloan': 0.16129032258064516,\n",
       " 'steve': 0.03225806451612903,\n",
       " 'susan grey': 0.03225806451612903,\n",
       " 'thatch grey': 0.06451612903225806,\n",
       " 'torres': 0.12903225806451613,\n",
       " 'tucker': 0.03225806451612903,\n",
       " 'yang': 0.0967741935483871}"
      ]
     },
     "execution_count": 10,
     "metadata": {},
     "output_type": "execute_result"
    }
   ],
   "source": [
    "degree_centrality"
   ]
  },
  {
   "cell_type": "code",
   "execution_count": 12,
   "metadata": {
    "collapsed": false
   },
   "outputs": [
    {
     "data": {
      "text/plain": [
       "[('karev', 0.22580645161290322),\n",
       " ('sloan', 0.16129032258064516),\n",
       " ('grey', 0.12903225806451613),\n",
       " (\"o'malley\", 0.12903225806451613),\n",
       " ('torres', 0.12903225806451613)]"
      ]
     },
     "execution_count": 12,
     "metadata": {},
     "output_type": "execute_result"
    }
   ],
   "source": [
    "# top 5\n",
    "sorted(degree_centrality.items(), key=lambda x: x[1], reverse=True)[:5]"
   ]
  },
  {
   "cell_type": "code",
   "execution_count": 13,
   "metadata": {
    "collapsed": true
   },
   "outputs": [],
   "source": [
    "# apply measurements back to Graph\n",
    "nx.set_node_attributes(GA, 'degree centrality', degree_centrality)"
   ]
  },
  {
   "cell_type": "code",
   "execution_count": 15,
   "metadata": {
    "collapsed": false
   },
   "outputs": [
    {
     "data": {
      "text/plain": [
       "{'degree centrality': 0.22580645161290322, 'label': 'karev'}"
      ]
     },
     "execution_count": 15,
     "metadata": {},
     "output_type": "execute_result"
    }
   ],
   "source": [
    "GA.node['karev']"
   ]
  },
  {
   "cell_type": "markdown",
   "metadata": {},
   "source": [
    "## Closeness Centrality\n",
    "Closeness Centrality measures how many \"hops\" it would take to reach every other node in a network (taking the shortest path). It can be informally thought as 'average distance' to all other nodes.\n",
    "\n",
    "In NetworkX, it the reciporical of of the *average* value, which normalizes the value in a 0 to 1 range. If you again take the reciporical of this, you'll find the *average* distance to all other nodes.\n",
    "\n",
    "$ C_C (u) = \\frac{n - 1}{\\sum_{v=1}^{n-1} d(v, u)} $\n",
    "\n",
    "⚠️ __NOTE__: `If the graph is not completely connected, this algorithm computes the closeness centrality for each connected part separately.  The closeness centrality is normalized to (n-1)/(|G|-1) where n is the number of nodes in the connected part of graph containing the node.` [[Source](https://networkx.github.io/documentation/development/_modules/networkx/algorithms/centrality/closeness.html)]\n",
    "\n",
    "__Why should we care about closeness centrality?__\n",
    "\n",
    "> Degree centrality measures might be criticized because they only take into account the immediate ties that an actor has, or the ties of the actor's neighbors, rather than indirect ties to all others. One actor might be tied to a large number of others, but those others might be rather disconnected from the network as a whole. In a case like this, the actor could be quite central, but only in a local neighborhood. [[Source](http://www.faculty.ucr.edu/~hanneman/nettext/C10_Centrality.html#Closeness)]\n",
    "\n",
    "In our example, closeness centrality could perhaps help us understand which characters have the greatest potential to spread an infectous disease or STD across the cast (an admittedly dark plot arc)."
   ]
  },
  {
   "cell_type": "markdown",
   "metadata": {},
   "source": [
    "Let's calculate the closeness centrality for `Grey`.  First we'll start by getting the shortest paths between `Grey` and all other characters."
   ]
  },
  {
   "cell_type": "code",
   "execution_count": 24,
   "metadata": {
    "collapsed": false
   },
   "outputs": [
    {
     "data": {
      "text/plain": [
       "{'addison': 2,\n",
       " 'altman': 4,\n",
       " 'arizona': 3,\n",
       " 'avery': 5,\n",
       " 'colin': 7,\n",
       " 'denny': 3,\n",
       " 'derek': 1,\n",
       " 'finn': 1,\n",
       " 'grey': 0,\n",
       " 'hank': 3,\n",
       " 'izzie': 2,\n",
       " 'karev': 3,\n",
       " 'kepner': 4,\n",
       " 'lexi': 4,\n",
       " 'mrs. seabury': 4,\n",
       " 'nancy': 4,\n",
       " \"o'malley\": 1,\n",
       " 'olivia': 2,\n",
       " 'owen': 5,\n",
       " 'preston': 7,\n",
       " 'sloan': 3,\n",
       " 'steve': 1,\n",
       " 'torres': 2,\n",
       " 'yang': 6}"
      ]
     },
     "execution_count": 24,
     "metadata": {},
     "output_type": "execute_result"
    }
   ],
   "source": [
    "# Shortest path between Grey and other characters\n",
    "grey_shortest_path = nx.shortest_path_length(GA)['grey']\n",
    "grey_shortest_path"
   ]
  },
  {
   "cell_type": "code",
   "execution_count": 70,
   "metadata": {
    "collapsed": false
   },
   "outputs": [
    {
     "name": "stdout",
     "output_type": "stream",
     "text": [
      "Calculated closeness centrality for Grey: 0.4025974025974026\n",
      "Networkx closeness centrality for Grey: 0.2216170925848345\n"
     ]
    },
    {
     "ename": "AssertionError",
     "evalue": "Centrality measure calculated incorrectly!",
     "output_type": "error",
     "traceback": [
      "\u001b[0;31m---------------------------------------------------------------------------\u001b[0m",
      "\u001b[0;31mAssertionError\u001b[0m                            Traceback (most recent call last)",
      "\u001b[0;32m<ipython-input-70-fc22a437e78e>\u001b[0m in \u001b[0;36m<module>\u001b[0;34m()\u001b[0m\n\u001b[1;32m      9\u001b[0m \u001b[0mprint\u001b[0m\u001b[0;34m(\u001b[0m\u001b[0;34m\"Networkx closeness centrality for Grey:\"\u001b[0m\u001b[0;34m,\u001b[0m \u001b[0mnx\u001b[0m\u001b[0;34m.\u001b[0m\u001b[0mcloseness_centrality\u001b[0m\u001b[0;34m(\u001b[0m\u001b[0mGA\u001b[0m\u001b[0;34m)\u001b[0m\u001b[0;34m[\u001b[0m\u001b[0;34m\"grey\"\u001b[0m\u001b[0;34m]\u001b[0m\u001b[0;34m)\u001b[0m\u001b[0;34m\u001b[0m\u001b[0m\n\u001b[1;32m     10\u001b[0m \u001b[0;34m\u001b[0m\u001b[0m\n\u001b[0;32m---> 11\u001b[0;31m \u001b[0mcheck_equal\u001b[0m\u001b[0;34m(\u001b[0m\u001b[0mcloseness_centrality_grey\u001b[0m\u001b[0;34m,\u001b[0m \u001b[0mnx\u001b[0m\u001b[0;34m.\u001b[0m\u001b[0mcloseness_centrality\u001b[0m\u001b[0;34m(\u001b[0m\u001b[0mGA\u001b[0m\u001b[0;34m)\u001b[0m\u001b[0;34m[\u001b[0m\u001b[0;34m\"grey\"\u001b[0m\u001b[0;34m]\u001b[0m\u001b[0;34m)\u001b[0m\u001b[0;34m\u001b[0m\u001b[0m\n\u001b[0m",
      "\u001b[0;32m<ipython-input-69-ebc10af03687>\u001b[0m in \u001b[0;36mcheck_equal\u001b[0;34m(val1, val2)\u001b[0m\n\u001b[1;32m     13\u001b[0m \u001b[0;34m\u001b[0m\u001b[0m\n\u001b[1;32m     14\u001b[0m \u001b[0;32mdef\u001b[0m \u001b[0mcheck_equal\u001b[0m\u001b[0;34m(\u001b[0m\u001b[0mval1\u001b[0m\u001b[0;34m,\u001b[0m \u001b[0mval2\u001b[0m\u001b[0;34m)\u001b[0m\u001b[0;34m:\u001b[0m\u001b[0;34m\u001b[0m\u001b[0m\n\u001b[0;32m---> 15\u001b[0;31m     \u001b[0;32massert\u001b[0m \u001b[0;34m(\u001b[0m\u001b[0mval1\u001b[0m \u001b[0;34m==\u001b[0m \u001b[0mval2\u001b[0m\u001b[0;34m)\u001b[0m\u001b[0;34m,\u001b[0m\u001b[0;34m\"Centrality measure calculated incorrectly!\"\u001b[0m\u001b[0;34m\u001b[0m\u001b[0m\n\u001b[0m\u001b[1;32m     16\u001b[0m     \u001b[0;32mreturn\u001b[0m \u001b[0;34m\"Values match, good job!\"\u001b[0m\u001b[0;34m\u001b[0m\u001b[0m\n\u001b[1;32m     17\u001b[0m \u001b[0;34m\u001b[0m\u001b[0m\n",
      "\u001b[0;31mAssertionError\u001b[0m: Centrality measure calculated incorrectly!"
     ]
    }
   ],
   "source": [
    "# Sum of the shortest paths to all other characters\n",
    "grey_sum_shortest_path = sum(grey_shortest_path.values())  # 77\n",
    "\n",
    "# Closeness centrality for Grey\n",
    "closeness_centrality_grey = (total_nodes_minus_grey / grey_sum_shortest_path)\n",
    "print(\"Calculated closeness centrality for Grey:\", closeness_centrality_grey)\n",
    "\n",
    "# Double check\n",
    "print(\"Networkx closeness centrality for Grey:\", nx.closeness_centrality(GA)[\"grey\"])\n",
    "\n",
    "check_equal(closeness_centrality_grey, nx.closeness_centrality(GA)[\"grey\"])"
   ]
  },
  {
   "cell_type": "markdown",
   "metadata": {},
   "source": [
    "Interesting...our calculated measure is not the same as the one in NetworkX.  \n",
    "\n",
    "_What happened here?_\n",
    "\n",
    "This error occured because __the character relationship graph is not fully connected.__ (i.e., there are groups of characters that do not have relationships with one another)."
   ]
  },
  {
   "cell_type": "code",
   "execution_count": 102,
   "metadata": {
    "collapsed": false
   },
   "outputs": [
    {
     "data": {
      "text/plain": [
       "[{'addison',\n",
       "  'altman',\n",
       "  'arizona',\n",
       "  'avery',\n",
       "  'colin',\n",
       "  'denny',\n",
       "  'derek',\n",
       "  'finn',\n",
       "  'grey',\n",
       "  'hank',\n",
       "  'izzie',\n",
       "  'karev',\n",
       "  'kepner',\n",
       "  'lexi',\n",
       "  'mrs. seabury',\n",
       "  'nancy',\n",
       "  \"o'malley\",\n",
       "  'olivia',\n",
       "  'owen',\n",
       "  'preston',\n",
       "  'sloan',\n",
       "  'steve',\n",
       "  'torres',\n",
       "  'yang'},\n",
       " {'adele', 'chief', 'ellis grey', 'susan grey', 'thatch grey'},\n",
       " {'bailey', 'ben', 'tucker'}]"
      ]
     },
     "execution_count": 102,
     "metadata": {},
     "output_type": "execute_result"
    }
   ],
   "source": [
    "# View members of different subgraphs\n",
    "sorted(nx.connected_components(GA), key = len, reverse=True)"
   ]
  },
  {
   "cell_type": "markdown",
   "metadata": {},
   "source": [
    "To correct for this, we will use the number of nodes in the `Grey` subgraph instead of the total number of nodes to calculated degree centrality.  Additionally, we'll normalized to `(n-1)/(|G|-1)` where `n` is the number of nodes in the connected part of graph containing the node."
   ]
  },
  {
   "cell_type": "code",
   "execution_count": 111,
   "metadata": {
    "collapsed": false
   },
   "outputs": [
    {
     "name": "stdout",
     "output_type": "stream",
     "text": [
      "Calculated closeness centrality for Grey (normalized): 0.2216170925848345\n",
      "Networkx closeness centrality for Grey: 0.2216170925848345\n"
     ]
    },
    {
     "data": {
      "text/plain": [
       "'Values match, good job!'"
      ]
     },
     "execution_count": 111,
     "metadata": {},
     "output_type": "execute_result"
    }
   ],
   "source": [
    "# Number of nodes in Grey subgraph, excluding Grey\n",
    "total_nodes_minus_grey_sub = len(grey_shortest_path)-1   # 23\n",
    "\n",
    "# Closeness centrality for Grey (unnormalized)\n",
    "closeness_centrality_grey = (total_nodes_minus_grey_sub / grey_sum_shortest_path)   # ~0.2987\n",
    "\n",
    "# Closeness centrality for Grey (normalized)\n",
    "closeness_centrality_grey_normalized = closeness_centrality_grey * (total_nodes_minus_grey_sub/total_nodes_minus_grey)\n",
    "print(\"Calculated closeness centrality for Grey (normalized):\", closeness_centrality_grey_normalized)\n",
    "\n",
    "# Double check\n",
    "print(\"Networkx closeness centrality for Grey:\", nx.closeness_centrality(GA)[\"grey\"])\n",
    "\n",
    "check_equal(closeness_centrality_grey_normalized, nx.closeness_centrality(GA)[\"grey\"])"
   ]
  },
  {
   "cell_type": "markdown",
   "metadata": {},
   "source": [
    "Let's find the degree centrality for all characters."
   ]
  },
  {
   "cell_type": "code",
   "execution_count": 112,
   "metadata": {
    "collapsed": false
   },
   "outputs": [],
   "source": [
    "closeness_centrality = nx.closeness_centrality(GA)"
   ]
  },
  {
   "cell_type": "code",
   "execution_count": 113,
   "metadata": {
    "collapsed": false
   },
   "outputs": [
    {
     "data": {
      "text/plain": [
       "{'addison': 0.2892290869327502,\n",
       " 'adele': 0.05161290322580645,\n",
       " 'altman': 0.2337604949182501,\n",
       " 'arizona': 0.21600653327888933,\n",
       " 'avery': 0.19614386355209493,\n",
       " 'bailey': 0.06451612903225806,\n",
       " 'ben': 0.04301075268817204,\n",
       " 'chief': 0.07373271889400922,\n",
       " 'colin': 0.13228307076769194,\n",
       " 'denny': 0.18752215526409075,\n",
       " 'derek': 0.2337604949182501,\n",
       " 'ellis grey': 0.08602150537634408,\n",
       " 'finn': 0.17236884978820463,\n",
       " 'grey': 0.2216170925848345,\n",
       " 'hank': 0.18752215526409075,\n",
       " 'izzie': 0.24731182795698925,\n",
       " 'karev': 0.2892290869327502,\n",
       " 'kepner': 0.21067303863002787,\n",
       " 'lexi': 0.26253101736972706,\n",
       " 'mrs. seabury': 0.21067303863002787,\n",
       " 'nancy': 0.21067303863002787,\n",
       " \"o'malley\": 0.2708653353814644,\n",
       " 'olivia': 0.2337604949182501,\n",
       " 'owen': 0.19173613628126135,\n",
       " 'preston': 0.13228307076769194,\n",
       " 'sloan': 0.2892290869327502,\n",
       " 'steve': 0.17236884978820463,\n",
       " 'susan grey': 0.05161290322580645,\n",
       " 'thatch grey': 0.07373271889400922,\n",
       " 'torres': 0.29937747594793435,\n",
       " 'tucker': 0.04301075268817204,\n",
       " 'yang': 0.1594814591498342}"
      ]
     },
     "execution_count": 113,
     "metadata": {},
     "output_type": "execute_result"
    }
   ],
   "source": [
    "closeness_centrality"
   ]
  },
  {
   "cell_type": "code",
   "execution_count": 20,
   "metadata": {
    "collapsed": false
   },
   "outputs": [
    {
     "data": {
      "text/plain": [
       "[('torres', 0.29937747594793435),\n",
       " ('addison', 0.2892290869327502),\n",
       " ('sloan', 0.2892290869327502),\n",
       " ('karev', 0.2892290869327502),\n",
       " (\"o'malley\", 0.2708653353814644)]"
      ]
     },
     "execution_count": 20,
     "metadata": {},
     "output_type": "execute_result"
    }
   ],
   "source": [
    "# top 5\n",
    "sorted(closeness_centrality.items(), key=lambda x: x[1], reverse=True)[:5]"
   ]
  },
  {
   "cell_type": "code",
   "execution_count": 23,
   "metadata": {
    "collapsed": true
   },
   "outputs": [],
   "source": [
    "# apply measurements back to Graph\n",
    "nx.set_node_attributes(GA, 'closeness centrality', closeness_centrality)"
   ]
  },
  {
   "cell_type": "code",
   "execution_count": 25,
   "metadata": {
    "collapsed": false
   },
   "outputs": [
    {
     "data": {
      "text/plain": [
       "3.340264650283554"
      ]
     },
     "execution_count": 25,
     "metadata": {},
     "output_type": "execute_result"
    }
   ],
   "source": [
    "# average distance of torres:\n",
    "1 / GA.node['torres']['closeness centrality']"
   ]
  },
  {
   "cell_type": "code",
   "execution_count": 15,
   "metadata": {
    "collapsed": false
   },
   "outputs": [
    {
     "data": {
      "text/plain": [
       "0.22580645161290322"
      ]
     },
     "execution_count": 15,
     "metadata": {},
     "output_type": "execute_result"
    }
   ],
   "source": [
    "7/(len(GA.nodes()) - 1)"
   ]
  },
  {
   "cell_type": "markdown",
   "metadata": {},
   "source": [
    "## Betweeness Centrality\n",
    "\n",
    "Betweenness centrality quantifies the number of times a node acts as a bridge along the shortest path between two other nodes.  In his conception, vertices that have a high probability to occur on a randomly chosen shortest path between two randomly chosen vertices have a high betweenness.\n",
    "\n",
    "$ C_B(v) =\\sum_{s,t \\in V} \\frac{\\sigma(s, t|v)}{\\sigma(s, t)} $\n",
    "\n",
    "where ${\\sigma(s, t)}$ is total number of shortest paths from node ${s}$ to node ${t}$ and ${\\sigma(s, t|v)}$ is the number of those paths that pass through ${v}$.\n",
    "\n",
    "__Why is betweeness centrality important?__\n",
    "\n",
    "> Suppose that I want to influence you by sending you information, or make a deal to exchange some resources. But, in order to talk to you, I must go through an intermediary. For example, let's suppose that I wanted to try to convince the Chancellor of my university to buy me a new computer. According to the rules of our bureaucratic hierarchy, I must forward my request through my department chair, a dean, and an executive vice chancellor. Each one of these people could delay the request, or even prevent my request from getting through. This gives the people who lie \"between\" me and the Chancellor power with respect to me... Having more than one channel makes me less dependent, and, in a sense, more powerful.  [[Source](http://www.faculty.ucr.edu/~hanneman/nettext/C10_Centrality.html#Closeness)]\n",
    "\n",
    "While this metric seems less relevent to our particular network, let's create a hypothetical situation:\n",
    "\n",
    "To engage with a new romantic partner, you needed permission from at least one of their former partners and you could only send your request through existing partners (_awkward_ 😬).  Betweeness centrality would tell you which actors had the most effective veto power to thwart random requests made by a member to another random member in the network."
   ]
  },
  {
   "cell_type": "code",
   "execution_count": 162,
   "metadata": {
    "collapsed": false
   },
   "outputs": [],
   "source": [
    "actors         = nx.nodes(GA)\n",
    "shortest_paths = nx.shortest_path(GA)\n",
    "connect_set    = set()\n",
    "numerator      = 0\n",
    "denominator    = 0\n",
    "\n",
    "for a in actors:\n",
    "    char_shortest_paths = shortest_paths[a]  # Gets a character's list of shortest paths to other characters\n",
    "    for end,path in char_shortest_paths.items():\n",
    "        connect_set.add(a,end)\n",
    "        denominator+=1\n",
    "        if 'grey' in path:\n",
    "            numerator+=1"
   ]
  },
  {
   "cell_type": "code",
   "execution_count": 196,
   "metadata": {
    "collapsed": false
   },
   "outputs": [
    {
     "data": {
      "text/plain": [
       "{('me', 'you'), ('you', 'me')}"
      ]
     },
     "execution_count": 196,
     "metadata": {},
     "output_type": "execute_result"
    }
   ],
   "source": [
    "connect_set    = set()\n",
    "\n",
    "connect_set.add((\"you\",\"me\"))\n",
    "connect_set.add((\"me\",\"you\"))\n",
    "connect_set"
   ]
  },
  {
   "cell_type": "code",
   "execution_count": 176,
   "metadata": {
    "collapsed": false
   },
   "outputs": [
    {
     "data": {
      "text/plain": [
       "46.866666666666674"
      ]
     },
     "execution_count": 176,
     "metadata": {},
     "output_type": "execute_result"
    }
   ],
   "source": [
    "nx.betweenness_centrality(GA, normalized=False)['grey']"
   ]
  },
  {
   "cell_type": "code",
   "execution_count": 115,
   "metadata": {
    "collapsed": false
   },
   "outputs": [],
   "source": [
    "betweeness_centrality = nx.betweenness_centrality(GA)"
   ]
  },
  {
   "cell_type": "code",
   "execution_count": 116,
   "metadata": {
    "collapsed": false
   },
   "outputs": [
    {
     "data": {
      "text/plain": [
       "{'addison': 0.09480286738351255,\n",
       " 'adele': 0.0,\n",
       " 'altman': 0.16344086021505377,\n",
       " 'arizona': 0.0,\n",
       " 'avery': 0.0,\n",
       " 'bailey': 0.002150537634408602,\n",
       " 'ben': 0.0,\n",
       " 'chief': 0.0064516129032258064,\n",
       " 'colin': 0.0,\n",
       " 'denny': 0.0,\n",
       " 'derek': 0.038602150537634404,\n",
       " 'ellis grey': 0.008602150537634409,\n",
       " 'finn': 0.0,\n",
       " 'grey': 0.10078853046594984,\n",
       " 'hank': 0.0,\n",
       " 'izzie': 0.10311827956989247,\n",
       " 'karev': 0.20487455197132612,\n",
       " 'kepner': 0.0,\n",
       " 'lexi': 0.07741935483870968,\n",
       " 'mrs. seabury': 0.0,\n",
       " 'nancy': 0.0,\n",
       " \"o'malley\": 0.11702508960573477,\n",
       " 'olivia': 0.01064516129032258,\n",
       " 'owen': 0.12903225806451613,\n",
       " 'preston': 0.0,\n",
       " 'sloan': 0.24810035842293907,\n",
       " 'steve': 0.0,\n",
       " 'susan grey': 0.0,\n",
       " 'thatch grey': 0.0064516129032258064,\n",
       " 'torres': 0.14440860215053763,\n",
       " 'tucker': 0.0,\n",
       " 'yang': 0.09247311827956989}"
      ]
     },
     "execution_count": 116,
     "metadata": {},
     "output_type": "execute_result"
    }
   ],
   "source": [
    "betweeness_centrality"
   ]
  },
  {
   "cell_type": "code",
   "execution_count": 117,
   "metadata": {
    "collapsed": false
   },
   "outputs": [
    {
     "data": {
      "text/plain": [
       "[('sloan', 0.24810035842293907),\n",
       " ('karev', 0.20487455197132612),\n",
       " ('altman', 0.16344086021505377),\n",
       " ('torres', 0.14440860215053763),\n",
       " ('owen', 0.12903225806451613)]"
      ]
     },
     "execution_count": 117,
     "metadata": {},
     "output_type": "execute_result"
    }
   ],
   "source": [
    "# top 5\n",
    "sorted(betweeness_centrality.items(), key=lambda x: x[1], reverse=True)[:5]"
   ]
  },
  {
   "cell_type": "code",
   "execution_count": null,
   "metadata": {
    "collapsed": false
   },
   "outputs": [],
   "source": []
  },
  {
   "cell_type": "markdown",
   "metadata": {},
   "source": [
    "## Eigenvector Centrality\n",
    "\n",
    "A node is high in eigenvector centrality if it is connected to many other nodes who are themselves well connected. A node's centrality is dependent on the centrality of adjacent nodes. These nodes would be considered influential. Eigenvector centrality for each node is simply calculated as the proportional eigenvector values of the eigenvector with the largest eigenvalue."
   ]
  },
  {
   "cell_type": "code",
   "execution_count": 226,
   "metadata": {
    "collapsed": false
   },
   "outputs": [],
   "source": [
    "eigenvector_centrality = nx.eigenvector_centrality_numpy(GA)"
   ]
  },
  {
   "cell_type": "code",
   "execution_count": 227,
   "metadata": {
    "collapsed": false
   },
   "outputs": [
    {
     "data": {
      "text/plain": [
       "{'addison': 0.2784013959452947,\n",
       " 'adele': 9.751217751879261e-17,\n",
       " 'altman': 0.10442628192357345,\n",
       " 'arizona': 0.1056420154369081,\n",
       " 'avery': 0.07734385472828517,\n",
       " 'bailey': -9.129231951768135e-17,\n",
       " 'ben': 1.659967312204627e-17,\n",
       " 'chief': 1.7908035689356888e-16,\n",
       " 'colin': 0.00352438973481364,\n",
       " 'denny': 0.08320301854301726,\n",
       " 'derek': 0.12570740328311858,\n",
       " 'ellis grey': 1.1938517495344422e-16,\n",
       " 'finn': 0.04422017135181146,\n",
       " 'grey': 0.15107836088557375,\n",
       " 'hank': 0.08320301854301713,\n",
       " 'izzie': 0.28426338654827693,\n",
       " 'karev': 0.5027687871890414,\n",
       " 'kepner': 0.1471588769531375,\n",
       " 'lexi': 0.26424553410154455,\n",
       " 'mrs. seabury': 0.1471588769531374,\n",
       " 'nancy': 0.09444834886225352,\n",
       " \"o'malley\": 0.3020119709505962,\n",
       " 'olivia': 0.23555685153699457,\n",
       " 'owen': 0.03408964112637767,\n",
       " 'preston': 0.0035243897348136385,\n",
       " 'sloan': 0.322683094575425,\n",
       " 'steve': 0.04422017135181152,\n",
       " 'susan grey': 4.009896806784398e-17,\n",
       " 'thatch grey': 3.852085892464765e-17,\n",
       " 'torres': 0.3609262932492623,\n",
       " 'tucker': 1.9494846887876484e-17,\n",
       " 'yang': 0.012041089122459096}"
      ]
     },
     "execution_count": 227,
     "metadata": {},
     "output_type": "execute_result"
    }
   ],
   "source": [
    "eigenvector_centrality"
   ]
  },
  {
   "cell_type": "code",
   "execution_count": 225,
   "metadata": {
    "collapsed": false
   },
   "outputs": [
    {
     "name": "stdout",
     "output_type": "stream",
     "text": [
      "maxkey: karev , maxval: 0.5027687871890412\n"
     ]
    },
    {
     "data": {
      "text/plain": [
       "[('karev', 1.0),\n",
       " ('torres', 0.7178772876239705),\n",
       " ('sloan', 0.6418121068722915),\n",
       " (\"o'malley\", 0.600697534624479),\n",
       " ('izzie', 0.5653958515157257)]"
      ]
     },
     "execution_count": 225,
     "metadata": {},
     "output_type": "execute_result"
    }
   ],
   "source": [
    "maxval = 0\n",
    "maxkey = ''\n",
    "for k in eigenvector_centrality.keys():\n",
    "    if eigenvector_centrality[k] > maxval:\n",
    "        maxval = eigenvector_centrality[k]\n",
    "        maxkey = k\n",
    "        \n",
    "print(\"maxkey:\", maxkey, \", maxval:\", maxval)\n",
    "\n",
    "ec_scaled = {}\n",
    "for k in eigenvector_centrality.keys():\n",
    "    ec_scaled[k] = eigenvector_centrality[k] / maxval\n",
    "\n",
    "# print ec_scaled # display\n",
    "sorted(ec_scaled.items(), key=lambda x:x[1], reverse=True)[0:5]"
   ]
  },
  {
   "cell_type": "code",
   "execution_count": 221,
   "metadata": {
    "collapsed": false
   },
   "outputs": [
    {
     "data": {
      "text/plain": [
       "{'addison': 0.2784013959452948,\n",
       " 'adele': -6.216405248694224e-18,\n",
       " 'altman': 0.10442628192357337,\n",
       " 'arizona': 0.10564201543690806,\n",
       " 'avery': 0.07734385472828523,\n",
       " 'bailey': 2.1719437361702516e-18,\n",
       " 'ben': 2.621488290874273e-17,\n",
       " 'chief': 3.407914118028536e-17,\n",
       " 'colin': 0.0035243897348135687,\n",
       " 'denny': 0.08320301854301713,\n",
       " 'derek': 0.12570740328311858,\n",
       " 'ellis grey': -1.0580088572146739e-17,\n",
       " 'finn': 0.04422017135181141,\n",
       " 'grey': 0.1510783608855733,\n",
       " 'hank': 0.08320301854301713,\n",
       " 'izzie': 0.2842633865482764,\n",
       " 'karev': 0.5027687871890417,\n",
       " 'kepner': 0.14715887695313754,\n",
       " 'lexi': 0.2642455341015449,\n",
       " 'mrs. seabury': 0.14715887695313767,\n",
       " 'nancy': 0.0944483488622535,\n",
       " \"o'malley\": 0.30201197095059595,\n",
       " 'olivia': 0.23555685153699427,\n",
       " 'owen': 0.034089641126377634,\n",
       " 'preston': 0.0035243897348135682,\n",
       " 'sloan': 0.32268309457542516,\n",
       " 'steve': 0.04422017135181143,\n",
       " 'susan grey': 1.9401180607718834e-18,\n",
       " 'thatch grey': 1.722879985362252e-17,\n",
       " 'torres': 0.360926293249262,\n",
       " 'tucker': 3.562946300718218e-17,\n",
       " 'yang': 0.012041089122459088}"
      ]
     },
     "execution_count": 221,
     "metadata": {},
     "output_type": "execute_result"
    }
   ],
   "source": [
    "    import scipy as sp\n",
    "    from scipy.sparse import linalg\n",
    "    M = nx.to_scipy_sparse_matrix(GA, nodelist=GA.nodes(), dtype=float)\n",
    "    eigenvalue, eigenvector = linalg.eigs(M.T, k=1, which='LR')  # Get largest real part\n",
    "    largest = eigenvector.flatten().real\n",
    "    norm = sp.sign(largest.sum())*sp.linalg.norm(largest)\n",
    "    centrality = dict(zip(GA,map(float,largest/norm)))\n",
    "    centrality"
   ]
  },
  {
   "cell_type": "code",
   "execution_count": 208,
   "metadata": {
    "collapsed": false
   },
   "outputs": [
    {
     "data": {
      "text/plain": [
       "array([ -4.35004273e-18,  -8.32030185e-02,  -1.73322565e-17,\n",
       "        -7.73438547e-02,  -3.27749556e-17,  -3.40896411e-02,\n",
       "        -1.51078361e-01,  -4.42201714e-02,  -2.84263387e-01,\n",
       "        -2.78401396e-01,  -1.47158877e-01,  -3.52438973e-03,\n",
       "        -3.52438973e-03,  -9.44483489e-02,  -3.60926293e-01,\n",
       "         2.00791283e-17,  -1.05642015e-01,  -3.02011971e-01,\n",
       "        -1.47158877e-01,  -1.20410891e-02,   1.81653591e-17,\n",
       "        -2.64245534e-01,  -1.04426282e-01,  -1.37626612e-17,\n",
       "        -5.02768787e-01,  -2.35556852e-01,   2.67379976e-17,\n",
       "        -3.22683095e-01,  -1.25707403e-01,  -8.32030185e-02,\n",
       "         8.67022455e-18,  -4.42201714e-02])"
      ]
     },
     "execution_count": 208,
     "metadata": {},
     "output_type": "execute_result"
    }
   ],
   "source": [
    "largest"
   ]
  },
  {
   "cell_type": "code",
   "execution_count": 230,
   "metadata": {
    "collapsed": false
   },
   "outputs": [
    {
     "data": {
      "text/plain": [
       "<networkx.classes.graph.Graph at 0x10e955588>"
      ]
     },
     "execution_count": 230,
     "metadata": {},
     "output_type": "execute_result"
    }
   ],
   "source": [
    "GA"
   ]
  },
  {
   "cell_type": "code",
   "execution_count": 237,
   "metadata": {
    "collapsed": false
   },
   "outputs": [
    {
     "data": {
      "text/plain": [
       "{'addison': 0.2784013959452948,\n",
       " 'adele': -6.216405248694224e-18,\n",
       " 'altman': 0.10442628192357337,\n",
       " 'arizona': 0.10564201543690806,\n",
       " 'avery': 0.07734385472828523,\n",
       " 'bailey': 2.1719437361702516e-18,\n",
       " 'ben': 2.621488290874273e-17,\n",
       " 'chief': 3.407914118028536e-17,\n",
       " 'colin': 0.0035243897348135687,\n",
       " 'denny': 0.08320301854301713,\n",
       " 'derek': 0.12570740328311858,\n",
       " 'ellis grey': -1.0580088572146739e-17,\n",
       " 'finn': 0.04422017135181141,\n",
       " 'grey': 0.1510783608855733,\n",
       " 'hank': 0.08320301854301713,\n",
       " 'izzie': 0.2842633865482764,\n",
       " 'karev': 0.5027687871890417,\n",
       " 'kepner': 0.14715887695313754,\n",
       " 'lexi': 0.2642455341015449,\n",
       " 'mrs. seabury': 0.14715887695313767,\n",
       " 'nancy': 0.0944483488622535,\n",
       " \"o'malley\": 0.30201197095059595,\n",
       " 'olivia': 0.23555685153699427,\n",
       " 'owen': 0.034089641126377634,\n",
       " 'preston': 0.0035243897348135682,\n",
       " 'sloan': 0.32268309457542516,\n",
       " 'steve': 0.04422017135181143,\n",
       " 'susan grey': 1.9401180607718834e-18,\n",
       " 'thatch grey': 1.722879985362252e-17,\n",
       " 'torres': 0.360926293249262,\n",
       " 'tucker': 3.562946300718218e-17,\n",
       " 'yang': 0.012041089122459088}"
      ]
     },
     "execution_count": 237,
     "metadata": {},
     "output_type": "execute_result"
    }
   ],
   "source": [
    "dict(zip(GA,map(float,-largest)))"
   ]
  },
  {
   "cell_type": "code",
   "execution_count": 244,
   "metadata": {
    "collapsed": false
   },
   "outputs": [
    {
     "data": {
      "text/plain": [
       "array([ 0.27482657+0.j,  0.17487613+0.j,  0.15479406+0.j,  0.14241493+0.j,\n",
       "        0.13932771+0.j,  0.11376060+0.j])"
      ]
     },
     "execution_count": 244,
     "metadata": {},
     "output_type": "execute_result"
    }
   ],
   "source": [
    "eigval, eigvec = linalg.eigs(M.T, which='LR')\n",
    "eigval / sum(eigval)"
   ]
  },
  {
   "cell_type": "code",
   "execution_count": 246,
   "metadata": {
    "collapsed": false
   },
   "outputs": [
    {
     "data": {
      "text/plain": [
       "array([ 3.41650329+0.j,  2.17397051+0.j,  1.92432060+0.j,  1.77042956+0.j,\n",
       "        1.73205081+0.j,  1.41421356+0.j])"
      ]
     },
     "execution_count": 246,
     "metadata": {},
     "output_type": "execute_result"
    }
   ],
   "source": [
    "eigval"
   ]
  },
  {
   "cell_type": "code",
   "execution_count": null,
   "metadata": {
    "collapsed": true
   },
   "outputs": [],
   "source": []
  }
 ],
 "metadata": {
  "kernelspec": {
   "display_name": "Python 3",
   "language": "python",
   "name": "python3"
  },
  "language_info": {
   "codemirror_mode": {
    "name": "ipython",
    "version": 3
   },
   "file_extension": ".py",
   "mimetype": "text/x-python",
   "name": "python",
   "nbconvert_exporter": "python",
   "pygments_lexer": "ipython3",
   "version": "3.4.5"
  }
 },
 "nbformat": 4,
 "nbformat_minor": 0
}
