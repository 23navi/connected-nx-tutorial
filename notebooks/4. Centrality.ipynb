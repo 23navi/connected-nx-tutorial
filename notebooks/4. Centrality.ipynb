{
 "cells": [
  {
   "cell_type": "code",
   "execution_count": 3,
   "metadata": {
    "collapsed": false
   },
   "outputs": [
    {
     "name": "stdout",
     "output_type": "stream",
     "text": [
      "CPython 3.5.2\n",
      "IPython 5.0.0\n",
      "\n",
      "pandas 0.18.0\n",
      "networkx 1.11\n",
      "numpy 1.11.1\n",
      "matplotlib 1.5.0\n"
     ]
    }
   ],
   "source": [
    "%reload_ext watermark\n",
    "%watermark -p pandas,networkx,numpy,matplotlib -v"
   ]
  },
  {
   "cell_type": "markdown",
   "metadata": {},
   "source": [
    "# Centrality\n",
    "## \"Who's the Boss?\"\n",
    "\n",
    "- Definition of Centrality\n",
    "- Examples (Medici family, trade example, etc.)\n",
    "- Compare and contrast popular centrality measures on dataset\n",
    "    - Degree\n",
    "    - Closeness\n",
    "    - Betweenness\n",
    "    - Eigenvector\n"
   ]
  },
  {
   "cell_type": "code",
   "execution_count": 4,
   "metadata": {
    "collapsed": true
   },
   "outputs": [],
   "source": [
    "import networkx as nx"
   ]
  },
  {
   "cell_type": "code",
   "execution_count": 5,
   "metadata": {
    "collapsed": true
   },
   "outputs": [],
   "source": [
    "GA = nx.read_gexf('../data/ga_graph.gexf')"
   ]
  },
  {
   "cell_type": "markdown",
   "metadata": {},
   "source": [
    "## Degree Centrality\n",
    "Degree is a basic way of understanding a node. Intuitively, the more connections a node has, the more central the node is to the network.\n",
    "\n",
    "NetworkX's degree centrality is calculated by taking the degree of the node and dividing by n-1 where number of nodes in G. It's value is the percent of possible edges that exist for that node.\n",
    "\n",
    "# The degree centrality values are normalized by dividing by the maximum \n",
    "possible degree in a simple graph n-1 where n is the number of nodes in G."
   ]
  },
  {
   "cell_type": "code",
   "execution_count": 9,
   "metadata": {
    "collapsed": false
   },
   "outputs": [],
   "source": [
    "degree_centrality = nx.degree_centrality(GA)"
   ]
  },
  {
   "cell_type": "code",
   "execution_count": 10,
   "metadata": {
    "collapsed": false
   },
   "outputs": [
    {
     "data": {
      "text/plain": [
       "{'addison': 0.0967741935483871,\n",
       " 'adele': 0.03225806451612903,\n",
       " 'altman': 0.06451612903225806,\n",
       " 'arizona': 0.03225806451612903,\n",
       " 'avery': 0.03225806451612903,\n",
       " 'bailey': 0.06451612903225806,\n",
       " 'ben': 0.03225806451612903,\n",
       " 'chief': 0.06451612903225806,\n",
       " 'colin': 0.03225806451612903,\n",
       " 'denny': 0.03225806451612903,\n",
       " 'derek': 0.06451612903225806,\n",
       " 'ellis grey': 0.06451612903225806,\n",
       " 'finn': 0.03225806451612903,\n",
       " 'grey': 0.12903225806451613,\n",
       " 'hank': 0.03225806451612903,\n",
       " 'izzie': 0.12903225806451613,\n",
       " 'karev': 0.22580645161290322,\n",
       " 'kepner': 0.03225806451612903,\n",
       " 'lexi': 0.0967741935483871,\n",
       " 'mrs. seabury': 0.03225806451612903,\n",
       " 'nancy': 0.03225806451612903,\n",
       " \"o'malley\": 0.12903225806451613,\n",
       " 'olivia': 0.06451612903225806,\n",
       " 'owen': 0.06451612903225806,\n",
       " 'preston': 0.03225806451612903,\n",
       " 'sloan': 0.16129032258064516,\n",
       " 'steve': 0.03225806451612903,\n",
       " 'susan grey': 0.03225806451612903,\n",
       " 'thatch grey': 0.06451612903225806,\n",
       " 'torres': 0.12903225806451613,\n",
       " 'tucker': 0.03225806451612903,\n",
       " 'yang': 0.0967741935483871}"
      ]
     },
     "execution_count": 10,
     "metadata": {},
     "output_type": "execute_result"
    }
   ],
   "source": [
    "degree_centrality"
   ]
  },
  {
   "cell_type": "code",
   "execution_count": 12,
   "metadata": {
    "collapsed": false
   },
   "outputs": [
    {
     "data": {
      "text/plain": [
       "[('karev', 0.22580645161290322),\n",
       " ('sloan', 0.16129032258064516),\n",
       " ('grey', 0.12903225806451613),\n",
       " (\"o'malley\", 0.12903225806451613),\n",
       " ('torres', 0.12903225806451613)]"
      ]
     },
     "execution_count": 12,
     "metadata": {},
     "output_type": "execute_result"
    }
   ],
   "source": [
    "# top 5\n",
    "sorted(degree_centrality.items(), key=lambda x: x[1], reverse=True)[:5]"
   ]
  },
  {
   "cell_type": "code",
   "execution_count": 13,
   "metadata": {
    "collapsed": true
   },
   "outputs": [],
   "source": [
    "# apply measurements back to Graph\n",
    "nx.set_node_attributes(GA, 'degree centrality', degree_centrality)"
   ]
  },
  {
   "cell_type": "code",
   "execution_count": 15,
   "metadata": {
    "collapsed": false
   },
   "outputs": [
    {
     "data": {
      "text/plain": [
       "{'degree centrality': 0.22580645161290322, 'label': 'karev'}"
      ]
     },
     "execution_count": 15,
     "metadata": {},
     "output_type": "execute_result"
    }
   ],
   "source": [
    "GA.node['karev']"
   ]
  },
  {
   "cell_type": "markdown",
   "metadata": {},
   "source": [
    "## Closeness Centrality\n",
    "Closeness Centrality measures how many \"hops\" it would take to reach every other node in a network (taking the shortest path). It can be informally thought as 'average distance' to all other nodes.\n",
    "\n",
    "In NetworkX, it the reciporical of of the *average* value, which normalizes the value in a 0 to 1 range. If you again take the reciporical of this, you'll find the *average* distance to all other nodes.\n",
    "\n",
    "\n",
    "NetworkX: $ \\frac{n - 1}{\\sum_{v=1}^{n-1} d(v, u)} $\n",
    "\n",
    "\n",
    "⚠️\n",
    "__Note__: `If the graph is not completely connected, this algorithm computes the closeness centrality for each connected part separately.` [[Source](https://networkx.github.io/documentation/development/_modules/networkx/algorithms/centrality/closeness.html)]"
   ]
  },
  {
   "cell_type": "code",
   "execution_count": 18,
   "metadata": {
    "collapsed": false
   },
   "outputs": [],
   "source": [
    "closeness_centrality = nx.closeness_centrality(GA)"
   ]
  },
  {
   "cell_type": "code",
   "execution_count": 19,
   "metadata": {
    "collapsed": false
   },
   "outputs": [
    {
     "data": {
      "text/plain": [
       "{'addison': 0.2892290869327502,\n",
       " 'adele': 0.05161290322580645,\n",
       " 'altman': 0.2337604949182501,\n",
       " 'arizona': 0.21600653327888933,\n",
       " 'avery': 0.19614386355209493,\n",
       " 'bailey': 0.06451612903225806,\n",
       " 'ben': 0.04301075268817204,\n",
       " 'chief': 0.07373271889400922,\n",
       " 'colin': 0.13228307076769194,\n",
       " 'denny': 0.18752215526409075,\n",
       " 'derek': 0.2337604949182501,\n",
       " 'ellis grey': 0.08602150537634408,\n",
       " 'finn': 0.17236884978820463,\n",
       " 'grey': 0.2216170925848345,\n",
       " 'hank': 0.18752215526409075,\n",
       " 'izzie': 0.24731182795698925,\n",
       " 'karev': 0.2892290869327502,\n",
       " 'kepner': 0.21067303863002787,\n",
       " 'lexi': 0.26253101736972706,\n",
       " 'mrs. seabury': 0.21067303863002787,\n",
       " 'nancy': 0.21067303863002787,\n",
       " \"o'malley\": 0.2708653353814644,\n",
       " 'olivia': 0.2337604949182501,\n",
       " 'owen': 0.19173613628126135,\n",
       " 'preston': 0.13228307076769194,\n",
       " 'sloan': 0.2892290869327502,\n",
       " 'steve': 0.17236884978820463,\n",
       " 'susan grey': 0.05161290322580645,\n",
       " 'thatch grey': 0.07373271889400922,\n",
       " 'torres': 0.29937747594793435,\n",
       " 'tucker': 0.04301075268817204,\n",
       " 'yang': 0.1594814591498342}"
      ]
     },
     "execution_count": 19,
     "metadata": {},
     "output_type": "execute_result"
    }
   ],
   "source": [
    "closeness_centrality"
   ]
  },
  {
   "cell_type": "code",
   "execution_count": 20,
   "metadata": {
    "collapsed": false
   },
   "outputs": [
    {
     "data": {
      "text/plain": [
       "[('torres', 0.29937747594793435),\n",
       " ('addison', 0.2892290869327502),\n",
       " ('sloan', 0.2892290869327502),\n",
       " ('karev', 0.2892290869327502),\n",
       " (\"o'malley\", 0.2708653353814644)]"
      ]
     },
     "execution_count": 20,
     "metadata": {},
     "output_type": "execute_result"
    }
   ],
   "source": [
    "# top 5\n",
    "sorted(closeness_centrality.items(), key=lambda x: x[1], reverse=True)[:5]"
   ]
  },
  {
   "cell_type": "code",
   "execution_count": 23,
   "metadata": {
    "collapsed": true
   },
   "outputs": [],
   "source": [
    "# apply measurements back to Graph\n",
    "nx.set_node_attributes(GA, 'closeness centrality', closeness_centrality)"
   ]
  },
  {
   "cell_type": "code",
   "execution_count": 25,
   "metadata": {
    "collapsed": false
   },
   "outputs": [
    {
     "data": {
      "text/plain": [
       "3.340264650283554"
      ]
     },
     "execution_count": 25,
     "metadata": {},
     "output_type": "execute_result"
    }
   ],
   "source": [
    "# average distance of torres:\n",
    "1 / GA.node['torres']['closeness centrality']"
   ]
  },
  {
   "cell_type": "code",
   "execution_count": 15,
   "metadata": {
    "collapsed": false
   },
   "outputs": [
    {
     "data": {
      "text/plain": [
       "{'degree centrality': 0.22580645161290322, 'label': 'karev'}"
      ]
     },
     "execution_count": 15,
     "metadata": {},
     "output_type": "execute_result"
    }
   ],
   "source": []
  }
 ],
 "metadata": {
  "kernelspec": {
   "display_name": "Python 3",
   "language": "python",
   "name": "python3"
  },
  "language_info": {
   "codemirror_mode": {
    "name": "ipython",
    "version": 3
   },
   "file_extension": ".py",
   "mimetype": "text/x-python",
   "name": "python",
   "nbconvert_exporter": "python",
   "pygments_lexer": "ipython3",
   "version": "3.5.2"
  }
 },
 "nbformat": 4,
 "nbformat_minor": 0
}
