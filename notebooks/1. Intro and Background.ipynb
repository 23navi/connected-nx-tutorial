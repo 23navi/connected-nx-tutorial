{
 "cells": [
  {
   "cell_type": "markdown",
   "metadata": {},
   "source": [
    "# Title Slide\n",
    "- installation\n",
    "- pics and bio\n",
    "- Talk title\n"
   ]
  },
  {
   "cell_type": "markdown",
   "metadata": {},
   "source": [
    "## Outline slide for entire presentation"
   ]
  },
  {
   "cell_type": "markdown",
   "metadata": {},
   "source": [
    "## How do we use it at RTI?!"
   ]
  },
  {
   "cell_type": "markdown",
   "metadata": {
    "slideshow": {
     "slide_type": "slide"
    }
   },
   "source": [
    "# What is Social Network Analysis? \n",
    "\n",
    "- Definiations\n",
    "- Examples\n",
    "    - Karate Club\n",
    "    - Florentine Marriages \n",
    "    - Semantic Text Network"
   ]
  },
  {
   "cell_type": "code",
   "execution_count": null,
   "metadata": {
    "collapsed": true
   },
   "outputs": [],
   "source": []
  },
  {
   "cell_type": "markdown",
   "metadata": {
    "collapsed": true,
    "slideshow": {
     "slide_type": "slide"
    }
   },
   "source": [
    "<img style=\"float: left;\" src=\"http://revolution-computing.typepad.com/.a/6a010534b1db25970b0147e0ae51b2970b-800wi\" width=\"400\">\n",
    "\n",
    "### Definitions\n",
    "\n",
    "__Network__: a pattern of interconnections among a set of things [[Source](http://www.cs.cornell.edu/home/kleinber/networks-book/networks-book-ch01.pdf)]\n",
    "\n",
    "__Social Network__: a network where the *things* are people and the *interconnections* are social interactions\n",
    "\n",
    "__Social Network Analysis__ (SNA): the application of _graph and network theory_ to investigate social structures.\n",
    "\n",
    "__Graph Theory:__ the study of graphs, which are mathematical structures used to model pairwise relations between objects.\n",
    "\n",
    "__Network Theory:__ a part of graph theory: a network can be defined as a graph in which nodes and/or edges have attributes (e.g. names). "
   ]
  },
  {
   "cell_type": "markdown",
   "metadata": {
    "slideshow": {
     "slide_type": "subslide"
    }
   },
   "source": [
    "<img style=\"float: left;\" src=\"http://i.imgur.com/upMNKXf.png\">\n",
    "\n",
    "### Parts of Graphs\n",
    "\n",
    "__Node / Vertex__: The entity of analysis which has a relationship. Node is used in the network context, vertex is used in the graph theory context, but both terms are often used interchangeably.\n",
    "\n",
    "__Link / Edge / Relationship__: The connections between the nodes. Link is used in the network context, edge is used in the graph theory context, and all words are used interchangably with *relationship*.\n",
    "\n",
    "__Attributes__: Both nodes and edges can store attributes, which contain additional data about that object.\n",
    "\n",
    "__Weight__: A common *attribute* of edges, used to indicate *strength* or *value* of a relationship.\n",
    "\n",
    "__Degree__: Number of edges a node has."
   ]
  },
  {
   "cell_type": "markdown",
   "metadata": {
    "slideshow": {
     "slide_type": "subslide"
    }
   },
   "source": [
    "### Types of Graphs\n",
    "\n",
    "Graphs are typically classified based on the presence of weights and direction attached to the edges in a graph. The table below covers what we call each type of graph:\n",
    "\n",
    "|                | Absent     | Present  |\n",
    "|----------------|------------|----------|\n",
    "| __Weights__ | Unweighted | Weighted |\n",
    "| __Directionality__ | Undirected | Directed |\n",
    "\n",
    "__Additional flavors__: parallel edges, self-loops, *n*-partite graphs\n",
    "\n",
    "In context:\n",
    "> We are talking about a(n) __\\[unweighted/weighted\\]__ __\\[undirected/directed\\]__ graph (with __\\[parallel edges | self loops\\]__).\n",
    "\n",
    "---"
   ]
  },
  {
   "cell_type": "markdown",
   "metadata": {
    "slideshow": {
     "slide_type": "slide"
    }
   },
   "source": [
    "## Examples\n",
    "### Example: Zachary's Karate Club Network\n",
    "> The *Iris* dataset of social network analysis\n",
    "\n",
    "![karate club](https://upload.wikimedia.org/wikipedia/commons/2/2b/Karate_Cuneyt_Akcora.png)\n",
    "\n",
    "A social network of a karate club was studied by Wayne W. Zachary for a period of three years from 1970 to 1972. The network captures 34 members of a karate club, documenting 78 pairwise links between members who interacted **outside** the club. During the study a conflict arose which led to the split of the club into two. Based on collected data Zachary assigned correctly all but one member of the club to the groups they actually joined after the split.\n",
    "\n",
    "There is even a [Zachary's Karate Club CLUB](http://networkkarate.tumblr.com/), which awards a trophy to the first person at a network conference to use Zachary's Karate Club Network as an example"
   ]
  },
  {
   "cell_type": "markdown",
   "metadata": {
    "slideshow": {
     "slide_type": "subslide"
    }
   },
   "source": [
    "### Example:  _15th Century Florentine Marriages_\n",
    "\n",
    "![15th century florentine marriages](https://upload.wikimedia.org/wikipedia/commons/thumb/2/20/15th_Century_Florentine_Marriges_Data_from_Padgett_and_Ansell.pdf/page1-577px-15th_Century_Florentine_Marriges_Data_from_Padgett_and_Ansell.pdf.jpg)\n",
    "\n",
    "[[Padgett and Ansell, 1993](http://home.uchicago.edu/~jpadgett/papers/published/robust.pdf)]\n",
    "\n",
    "The graph above is a marriage network of 16 influential Florentian families in the 1430s.  At this time in Renaissance Italy, the major families were essentially an oligarchy, controlling politics and money in the region.\n",
    "\n",
    "Based on this network, can you surmise which family ascended to power in the proceeding decades?\n",
    "\n",
    "By examining the right networks, we can understand which actors are the most central.  In this case, the network forecasts the Rise of the Medici's, even though they were not the most wealthy or most politically connected family at the time."
   ]
  },
  {
   "cell_type": "markdown",
   "metadata": {
    "slideshow": {
     "slide_type": "subslide"
    }
   },
   "source": [
    "### Semantic Text Network\n",
    "\n",
    "![semantic text network](http://noduslabs.com/wp-content/uploads/2011/12/figure-5-meaning-circulation.png)"
   ]
  },
  {
   "cell_type": "markdown",
   "metadata": {
    "slideshow": {
     "slide_type": "slide"
    }
   },
   "source": [
    "__Network__: a pattern of interconnections among a set of things [[Source](http://www.cs.cornell.edu/home/kleinber/networks-book/networks-book-ch01.pdf)]"
   ]
  }
 ],
 "metadata": {
  "kernelspec": {
   "display_name": "Python 3",
   "language": "python",
   "name": "python3"
  },
  "language_info": {
   "codemirror_mode": {
    "name": "ipython",
    "version": 3
   },
   "file_extension": ".py",
   "mimetype": "text/x-python",
   "name": "python",
   "nbconvert_exporter": "python",
   "pygments_lexer": "ipython3",
   "version": "3.5.2"
  }
 },
 "nbformat": 4,
 "nbformat_minor": 0
}
