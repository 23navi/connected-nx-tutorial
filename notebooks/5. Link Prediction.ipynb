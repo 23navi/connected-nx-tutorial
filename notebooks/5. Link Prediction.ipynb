{
 "cells": [
  {
   "cell_type": "markdown",
   "metadata": {
    "slideshow": {
     "slide_type": "slide"
    }
   },
   "source": [
    "# Link Prediction\n",
    "## \"People you May Know\"\n",
    "\n",
    "- Definition of Link Prediction\n",
    "- Perform link prediction on dataset\n",
    "   - Jaccard coefficient\n",
    "   - Preferential Attachment\n"
   ]
  },
  {
   "cell_type": "code",
   "execution_count": 2,
   "metadata": {
    "collapsed": true,
    "slideshow": {
     "slide_type": "subslide"
    }
   },
   "outputs": [],
   "source": [
    "import networkx as nx\n",
    "import matplotlib.pyplot as plt # for plotting graphs\n",
    "%matplotlib inline"
   ]
  },
  {
   "cell_type": "code",
   "execution_count": 3,
   "metadata": {
    "collapsed": true,
    "slideshow": {
     "slide_type": "fragment"
    }
   },
   "outputs": [],
   "source": [
    "GA = nx.read_gexf('../data/ga_graph.gexf')"
   ]
  },
  {
   "cell_type": "markdown",
   "metadata": {
    "slideshow": {
     "slide_type": "slide"
    }
   },
   "source": [
    "## Link Prediction\n",
    "\n",
    "The idea of link prediction was first proposed by [Liben-Nowell and Kleinberg in 2004](https://www.cs.cornell.edu/home/kleinber/link-pred.pdf) as the following question:\n",
    "\n",
    "> \"Given a snapshot of a social network, can we infer which new interactions among its members are likely to occur in the near future?\"\n",
    "\n",
    "![](https://content.linkedin.com/content/dam/engineering/en-us/blog/migrated/link_prediction.jpg)\n",
    "\n",
    "It's an inticing idea and has led to many interesting developments in the network literature. For our example, the question could be rephrased as:\n",
    "\n",
    "> \"Given a snapshot of the Grey's Anatomy relationship network, can we infer which new relationships are likely to occur in the near future?\"\n",
    "\n",
    "Sounds awesome, but how does it work? "
   ]
  },
  {
   "cell_type": "markdown",
   "metadata": {
    "slideshow": {
     "slide_type": "slide"
    }
   },
   "source": [
    "## Jaccard Coefficient\n",
    "\n",
    "The most popular measures for link prediction analyze the “proximity” of nodes in a network. One way to measure proximity is to see what proportion of neighbors a pair of nodes share (more common connections suggests there's a higher chance that the two unmatched nodes will connect).  This can be capture succintly with the Jaccard index.  \n",
    "\n",
    "![](https://upload.wikimedia.org/math/0/a/0/0a0633ce67c9130d890078a8d67f0474.png)\n",
    "\n",
    "![](https://upload.wikimedia.org/wikipedia/commons/thumb/1/1f/Intersection_of_sets_A_and_B.svg/128px-Intersection_of_sets_A_and_B.svg.png)\n",
    "\n",
    "In the context of a network, we're comparing sets of neighbors:\n",
    "\n",
    "$$ Jaccard = \\frac{|\\Gamma(u) \\cap \\Gamma(v)|}{|\\Gamma(u) \\cup \\Gamma(v)|} $$\n",
    "\n",
    "where $\\Gamma(u)$ denotes the set of neighbors of $u$."
   ]
  },
  {
   "cell_type": "code",
   "execution_count": 14,
   "metadata": {
    "collapsed": false,
    "slideshow": {
     "slide_type": "subslide"
    }
   },
   "outputs": [],
   "source": [
    "preds_jc = nx.jaccard_coefficient(GA)"
   ]
  },
  {
   "cell_type": "code",
   "execution_count": 15,
   "metadata": {
    "collapsed": false,
    "slideshow": {
     "slide_type": "fragment"
    }
   },
   "outputs": [],
   "source": [
    "pred_jc_dict = {}\n",
    "for u, v, p in preds_jc:\n",
    "    pred_jc_dict[(u,v)] = p"
   ]
  },
  {
   "cell_type": "code",
   "execution_count": 16,
   "metadata": {
    "collapsed": false,
    "slideshow": {
     "slide_type": "fragment"
    }
   },
   "outputs": [
    {
     "data": {
      "text/plain": [
       "[(('steve', 'finn'), 1.0),\n",
       " (('tucker', 'ben'), 1.0),\n",
       " (('mrs. seabury', 'kepner'), 1.0),\n",
       " (('colin', 'preston'), 1.0),\n",
       " (('denny', 'hank'), 1.0),\n",
       " (('lexi', 'addison'), 0.5),\n",
       " (('olivia', 'izzie'), 0.5),\n",
       " (('preston', 'owen'), 0.5),\n",
       " (('derek', 'finn'), 0.5),\n",
       " (('torres', 'olivia'), 0.5)]"
      ]
     },
     "execution_count": 16,
     "metadata": {},
     "output_type": "execute_result"
    }
   ],
   "source": [
    "sorted(pred_jc_dict.items(), key=lambda x:x[1], reverse=True)[:10]"
   ]
  },
  {
   "cell_type": "code",
   "execution_count": 43,
   "metadata": {
    "collapsed": false,
    "slideshow": {
     "slide_type": "subslide"
    }
   },
   "outputs": [],
   "source": [
    "extra_attrs = {'finn':('Finn Dandridge','M','S'),\n",
    " 'olivia':('Olivia Harper','F','S'),\n",
    " 'steve':('Steve Murphy','M','S'),\n",
    " 'torres':('Callie Torres','F','B'),\n",
    " 'colin':('Colin Marlow','M','S'),\n",
    " 'grey':('Meredith Grey','F','S'),\n",
    " 'mrs. seabury':('Dana Seabury','F','S'),\n",
    " 'altman':('Teddy Altman','F','S'),\n",
    " 'tucker':('Tucker Jones','M','S'),\n",
    " 'ben':('Ben Warren','M','S'),\n",
    " \"o'malley\":(\"George O'Malley\",'M','S'),\n",
    " 'thatch grey':('Thatcher Grey','M','S'),\n",
    " 'susan grey':('Susan Grey','F','S'),\n",
    " 'derek':('Derek Shepherd','M','S'),\n",
    " 'chief':('Richard Webber','M','S'),\n",
    " 'addison':('Addison Montgomery','F','S'),\n",
    " 'karev':('Alex Karev','M','S'),\n",
    " 'hank':('Hank','M','S'),\n",
    " 'lexi':('Lexie Grey','F','S'),\n",
    " 'adele':('Adele Webber','F','S'),\n",
    " 'owen':('Owen Hunt','M','S'),\n",
    " 'sloan':('Mark Sloan','M','S'),\n",
    " 'arizona':('Arizona Robbins','F','G'),\n",
    " 'izzie':('Izzie Stevens','F','S'),\n",
    " 'preston':('Preston Burke','M','S'),\n",
    " 'kepner':('April Kepner','M','S'),\n",
    " 'bailey':('Miranda Bailey','F','S'),\n",
    " 'ellis grey':('Ellis Grey','F','S'),\n",
    " 'denny':('Denny Duquette','M','S'),\n",
    " 'yang':('Cristina Yang','F','S'),\n",
    " 'nancy':('Nancy Shepherd','F','S'),\n",
    " 'avery':('Jackson Avery','M','S')}"
   ]
  },
  {
   "cell_type": "code",
   "execution_count": 45,
   "metadata": {
    "collapsed": false,
    "slideshow": {
     "slide_type": "subslide"
    }
   },
   "outputs": [],
   "source": [
    "for i in GA.nodes():\n",
    "    GA.node[i][\"full_name\"]   = extra_attrs[i][0]\n",
    "    GA.node[i][\"gender\"]      = extra_attrs[i][1]\n",
    "    GA.node[i][\"orientation\"] = extra_attrs[i][2]"
   ]
  },
  {
   "cell_type": "code",
   "execution_count": 47,
   "metadata": {
    "collapsed": false,
    "slideshow": {
     "slide_type": "fragment"
    }
   },
   "outputs": [
    {
     "data": {
      "text/plain": [
       "{'full_name': 'Meredith Grey',\n",
       " 'gender': 'F',\n",
       " 'label': 'grey',\n",
       " 'orientation': 'S'}"
      ]
     },
     "execution_count": 47,
     "metadata": {},
     "output_type": "execute_result"
    }
   ],
   "source": [
    "GA.node['grey']"
   ]
  },
  {
   "cell_type": "markdown",
   "metadata": {
    "slideshow": {
     "slide_type": "slide"
    }
   },
   "source": [
    "## Preferential Attachment\n",
    "\n",
    "Though shared connections is an intuitive way to predict future connections, there other variations may better reflect the underlying social mechanisms of linking.\n",
    "\n",
    "The preferential attachement methods mirrors the “rich get richer” mantra by supposing that nodes with more connections will be the ones to be more likely to get future connections. In the context of social networks, the ones that have more social connectivity (the “hubs”) receive more new connections than the poorly connected. \n",
    "\n",
    "![](http://www.frumforum.com/wp-content/uploads/2011/10/rich1.jpg)\n",
    " \n",
    " > Preferential attachment has received considerable attention as a model of the growth of networks. The basic premise is that the probability that a new edge involves node x is proportional to |Γ(x)|, the current number of neighbors of x. Newman and Barabasi et al. have further proposed, on the basis of empirical evidence, that the probability of co authorship of x and y is correlated with the product of the number of collaborators of x and y. This corresponds to the measure score(x, y) := |Γ(x)| · |Γ(y)|.\n",
    "\n",
    "Preferential attachment score of $u$ and $v$ is defined as:\n",
    "\n",
    "$|\\Gamma(u)| |\\Gamma(v)|$\n",
    "\n",
    "where $\\Gamma(u)$ denotes the set of neighbors of $u$."
   ]
  },
  {
   "cell_type": "code",
   "execution_count": 18,
   "metadata": {
    "collapsed": true,
    "slideshow": {
     "slide_type": "subslide"
    }
   },
   "outputs": [],
   "source": [
    "preds_pa = nx.preferential_attachment(GA)"
   ]
  },
  {
   "cell_type": "code",
   "execution_count": 19,
   "metadata": {
    "collapsed": false,
    "slideshow": {
     "slide_type": "fragment"
    }
   },
   "outputs": [],
   "source": [
    "pred_pa_dict = {}\n",
    "for u, v, p in preds_pa:\n",
    "    pred_pa_dict[(u,v)] = p"
   ]
  },
  {
   "cell_type": "code",
   "execution_count": 21,
   "metadata": {
    "collapsed": false,
    "slideshow": {
     "slide_type": "subslide"
    }
   },
   "outputs": [
    {
     "data": {
      "text/plain": [
       "[(('karev', 'sloan'), 35),\n",
       " (('karev', \"o'malley\"), 28),\n",
       " (('karev', 'grey'), 28),\n",
       " (('karev', 'yang'), 21),\n",
       " (('izzie', 'sloan'), 20),\n",
       " (('sloan', \"o'malley\"), 20),\n",
       " (('grey', 'sloan'), 20),\n",
       " (('torres', 'izzie'), 16),\n",
       " (('torres', 'grey'), 16),\n",
       " (('grey', 'izzie'), 16)]"
      ]
     },
     "execution_count": 21,
     "metadata": {},
     "output_type": "execute_result"
    }
   ],
   "source": [
    "sorted(pred_pa_dict.items(), key=lambda x:x[1], reverse=True)[:10]"
   ]
  },
  {
   "cell_type": "code",
   "execution_count": null,
   "metadata": {
    "collapsed": true
   },
   "outputs": [],
   "source": []
  }
 ],
 "metadata": {
  "celltoolbar": "Slideshow",
  "kernelspec": {
   "display_name": "Python 3",
   "language": "python",
   "name": "python3"
  },
  "language_info": {
   "codemirror_mode": {
    "name": "ipython",
    "version": 3
   },
   "file_extension": ".py",
   "mimetype": "text/x-python",
   "name": "python",
   "nbconvert_exporter": "python",
   "pygments_lexer": "ipython3",
   "version": "3.5.2"
  }
 },
 "nbformat": 4,
 "nbformat_minor": 0
}
