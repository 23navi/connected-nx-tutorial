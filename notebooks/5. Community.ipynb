{
 "cells": [
  {
   "cell_type": "markdown",
   "metadata": {},
   "source": [
    "# Community\n",
    "## \"Where do I belong?\"\n",
    "- Definition of Community and Community Detection\n",
    "- Examples\n",
    "- Perform community detection on dataset\n",
    "    - k-cliques or Girvan-Newman\n"
   ]
  },
  {
   "cell_type": "code",
   "execution_count": 6,
   "metadata": {
    "collapsed": true
   },
   "outputs": [],
   "source": [
    "import networkx as nx\n",
    "from networkx.algorithms.community import k_clique_communities"
   ]
  },
  {
   "cell_type": "code",
   "execution_count": 3,
   "metadata": {
    "collapsed": true
   },
   "outputs": [],
   "source": [
    "path = '../data/'"
   ]
  },
  {
   "cell_type": "code",
   "execution_count": 12,
   "metadata": {
    "collapsed": false
   },
   "outputs": [],
   "source": [
    "GA = nx.read_gexf(path + 'ga_graph.gexf')"
   ]
  },
  {
   "cell_type": "code",
   "execution_count": 23,
   "metadata": {
    "collapsed": false
   },
   "outputs": [
    {
     "data": {
      "text/plain": [
       "[frozenset({'bailey', 'ben', 'tucker'}),\n",
       " frozenset({'addison',\n",
       "            'altman',\n",
       "            'arizona',\n",
       "            'avery',\n",
       "            'colin',\n",
       "            'denny',\n",
       "            'derek',\n",
       "            'finn',\n",
       "            'grey',\n",
       "            'hank',\n",
       "            'izzie',\n",
       "            'karev',\n",
       "            'kepner',\n",
       "            'lexi',\n",
       "            'mrs. seabury',\n",
       "            'nancy',\n",
       "            \"o'malley\",\n",
       "            'olivia',\n",
       "            'owen',\n",
       "            'preston',\n",
       "            'sloan',\n",
       "            'steve',\n",
       "            'torres',\n",
       "            'yang'}),\n",
       " frozenset({'adele', 'chief', 'ellis grey', 'susan grey', 'thatch grey'})]"
      ]
     },
     "execution_count": 23,
     "metadata": {},
     "output_type": "execute_result"
    }
   ],
   "source": [
    "list(k_clique_communities(GA, 2))"
   ]
  },
  {
   "cell_type": "code",
   "execution_count": null,
   "metadata": {
    "collapsed": true
   },
   "outputs": [],
   "source": []
  }
 ],
 "metadata": {
  "kernelspec": {
   "display_name": "Python 3",
   "language": "python",
   "name": "python3"
  },
  "language_info": {
   "codemirror_mode": {
    "name": "ipython",
    "version": 3
   },
   "file_extension": ".py",
   "mimetype": "text/x-python",
   "name": "python",
   "nbconvert_exporter": "python",
   "pygments_lexer": "ipython3",
   "version": "3.5.2"
  }
 },
 "nbformat": 4,
 "nbformat_minor": 0
}
