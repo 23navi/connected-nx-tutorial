{
 "cells": [
  {
   "cell_type": "markdown",
   "metadata": {},
   "source": [
    "# Exporting Graphs\n",
    "\n",
    "- Edge List\n",
    "- GEXF\n",
    "- JSON\n",
    "    - node-link like in the d3.js example http://bl.ocks.org/mbostock/4062045\n",
    "    - tree like in the d3.js example http://bl.ocks.org/mbostock/4063550\n",
    "    - adjacency like in the d3.js example http://bost.ocks.org/mike/miserables/"
   ]
  },
  {
   "cell_type": "code",
   "execution_count": null,
   "metadata": {
    "collapsed": true
   },
   "outputs": [],
   "source": []
  }
 ],
 "metadata": {
  "kernelspec": {
   "display_name": "Python 3",
   "language": "python",
   "name": "python3"
  },
  "language_info": {
   "codemirror_mode": {
    "name": "ipython",
    "version": 3
   },
   "file_extension": ".py",
   "mimetype": "text/x-python",
   "name": "python",
   "nbconvert_exporter": "python",
   "pygments_lexer": "ipython3",
   "version": "3.5.0"
  }
 },
 "nbformat": 4,
 "nbformat_minor": 0
}
