{
 "cells": [
  {
   "cell_type": "code",
   "execution_count": 1,
   "metadata": {
    "collapsed": false
   },
   "outputs": [
    {
     "name": "stdout",
     "output_type": "stream",
     "text": [
      "Wed Sep 07 2016 \n",
      "\n",
      "CPython 3.5.2\n",
      "IPython 5.0.0\n",
      "\n",
      "pandas 0.18.0\n",
      "networkx 1.11\n",
      "numpy 1.11.1\n",
      "matplotlib 1.5.0\n"
     ]
    }
   ],
   "source": [
    "%reload_ext watermark\n",
    "%watermark -p pandas,networkx,numpy,matplotlib -v -n"
   ]
  },
  {
   "cell_type": "markdown",
   "metadata": {},
   "source": [
    "# Creating Graphs\n",
    "\n",
    "- Create graph object\n",
    "- Add nodes and edges\n",
    "- Add attributes\n",
    "\n",
    "- Loading in several data types"
   ]
  },
  {
   "cell_type": "code",
   "execution_count": 3,
   "metadata": {
    "collapsed": false
   },
   "outputs": [],
   "source": [
    "import csv\n",
    "\n",
    "import networkx as nx # for using graphs\n",
    "import pandas as pd # for loading in and exploring data\n",
    "import matplotlib.pyplot as plt # for plotting graphs\n",
    "%matplotlib inline"
   ]
  },
  {
   "cell_type": "code",
   "execution_count": 4,
   "metadata": {
    "collapsed": false
   },
   "outputs": [],
   "source": [
    "# Create empty graph\n",
    "G = nx.Graph()"
   ]
  },
  {
   "cell_type": "code",
   "execution_count": 5,
   "metadata": {
    "collapsed": false
   },
   "outputs": [],
   "source": [
    "# Add nodes\n",
    "G.add_node(1)\n",
    "G.add_nodes_from([2, 3])\n",
    "G.add_node(4)"
   ]
  },
  {
   "cell_type": "code",
   "execution_count": 6,
   "metadata": {
    "collapsed": false
   },
   "outputs": [
    {
     "data": {
      "text/plain": [
       "[1, 2, 3, 4]"
      ]
     },
     "execution_count": 6,
     "metadata": {},
     "output_type": "execute_result"
    }
   ],
   "source": [
    "G.nodes()"
   ]
  },
  {
   "cell_type": "markdown",
   "metadata": {},
   "source": [
    "⚠️  \n",
    "**Note**: In `networkx 2.0`, several methods now return iterators\n",
    "\n",
    "For more details see: https://networkx.github.io/documentation/development/reference/migration_guide_from_1.x_to_2.0.html"
   ]
  },
  {
   "cell_type": "code",
   "execution_count": 7,
   "metadata": {
    "collapsed": true
   },
   "outputs": [],
   "source": [
    "G.add_edge(1, 2)"
   ]
  },
  {
   "cell_type": "code",
   "execution_count": 8,
   "metadata": {
    "collapsed": false
   },
   "outputs": [
    {
     "name": "stdout",
     "output_type": "stream",
     "text": [
      "Name: \n",
      "Type: Graph\n",
      "Number of nodes: 4\n",
      "Number of edges: 1\n",
      "Average degree:   0.5000\n"
     ]
    }
   ],
   "source": [
    "print(nx.info(G))"
   ]
  },
  {
   "cell_type": "code",
   "execution_count": 9,
   "metadata": {
    "collapsed": false
   },
   "outputs": [
    {
     "data": {
      "image/png": "[encoded data removed]",
      "text/plain": [
       "<matplotlib.figure.Figure at 0x10aeb8c50>"
      ]
     },
     "metadata": {},
     "output_type": "display_data"
    }
   ],
   "source": [
    "nx.draw(G, with_labels=True)"
   ]
  },
  {
   "cell_type": "markdown",
   "metadata": {},
   "source": [
    "## Adding and Inspecting Attributes"
   ]
  },
  {
   "cell_type": "code",
   "execution_count": 10,
   "metadata": {
    "collapsed": false
   },
   "outputs": [],
   "source": [
    "# add at creation\n",
    "# nodes\n",
    "G.add_node(5, favorite_color='blue') # kwargs style\n",
    "G.add_nodes_from([(6, {'favorite_color' : 'red'}), (7, {'favorite_color' :'purple'})]) # (node, attrdict) tuples\n",
    "\n",
    "# edges\n",
    "G.add_edge(5, 6, {'relationship' : 'best friends'})"
   ]
  },
  {
   "cell_type": "code",
   "execution_count": 11,
   "metadata": {
    "collapsed": false
   },
   "outputs": [
    {
     "data": {
      "text/plain": [
       "{'favorite_color': 'blue'}"
      ]
     },
     "execution_count": 11,
     "metadata": {},
     "output_type": "execute_result"
    }
   ],
   "source": [
    "# accessing all attributes\n",
    "G.node[5]"
   ]
  },
  {
   "cell_type": "code",
   "execution_count": 12,
   "metadata": {
    "collapsed": false
   },
   "outputs": [
    {
     "name": "stdout",
     "output_type": "stream",
     "text": [
      "New Nodes Attributes:  4: {'favorite_color': 'blue'}  5: {'favorite_color': 'red'}  6: {'favorite_color': 'purple'}\n",
      "\n",
      "Edge Between 5-6 attributes: {'relationship': 'best friends'}\n"
     ]
    }
   ],
   "source": [
    "print(\"New Nodes Attributes:  4: %s  5: %s  6: %s\" % (G.node[5], G.node[6], G.node[7]))\n",
    "print()\n",
    "print(\"Edge Between 5-6 attributes:\", G.edge[5][6])"
   ]
  },
  {
   "cell_type": "code",
   "execution_count": 13,
   "metadata": {
    "collapsed": true
   },
   "outputs": [],
   "source": [
    "favorite_foods = {\n",
    "    1 : 'pizza',\n",
    "    2 : 'mac and cheese',\n",
    "    3 : 'balogna sandwich',\n",
    "    4 : 'pizza',\n",
    "    5 : 'chocolate',\n",
    "    6 : 'pizza',\n",
    "    7 : 'bananas'\n",
    "}"
   ]
  },
  {
   "cell_type": "code",
   "execution_count": 14,
   "metadata": {
    "collapsed": true
   },
   "outputs": [],
   "source": [
    "nx.set_node_attributes(G, 'favorite_food', favorite_foods)"
   ]
  },
  {
   "cell_type": "code",
   "execution_count": 15,
   "metadata": {
    "collapsed": false
   },
   "outputs": [
    {
     "name": "stdout",
     "output_type": "stream",
     "text": [
      "Node 4's favorite food is pizza\n"
     ]
    }
   ],
   "source": [
    "print(\"Node 4's favorite food is %s\" % G.node[4]['favorite_food'])"
   ]
  },
  {
   "cell_type": "markdown",
   "metadata": {},
   "source": [
    "## Reading in Different Representations of Graphs\n",
    "Data for graphs and networks comes in many different representations. Two of the most common will be covered in detail, and time permitting, we'll cover two others.\n",
    "\n",
    "__Representations__:\n",
    "- Edge List\n",
    "- Adjacency Matrix\n",
    "- Adjacency List (optional)\n",
    "- Incidence Matrix (optional)\n",
    "\n",
    "__Note__: Representations are related to, but distinct from, the storage format. In our examples, we'll be loading our data from text files. You may also have network data stored as `JSON`, `GEXF`, or other formats. For more details, [check the docs](http://networkx.readthedocs.io/en/latest/reference/readwrite.html).\n",
    "\n",
    "#### Grey's Anatomy Dataset\n",
    "The dataset we'll look at is a record of all \"romantic\" encounters between characters on the TV show Grey's Anatomy.\n",
    "\n",
    "### Edge Lists\n",
    "An edge list is a common way of representing a graph. This representation can be thought of as a list of tuples, where each tuple represents an edge between two of the nodes in your graph. The nodes of the graph can be inferred by taking the set of objects from all tuples.\n",
    "\n",
    "You can infer/determine whether a graph is directed or weighted from an edge list.\n",
    "- __Weighted__: If edges appear more than once, or if an additional weight attribute is added as a 3rd column, the graph is weighted\n",
    "- __Directed__: If the \"From\" and \"To\" (often seen as \"Source\" and \"Target\") of an edge in the list is not arbitrary, it's a directed graph"
   ]
  },
  {
   "cell_type": "code",
   "execution_count": 16,
   "metadata": {
    "collapsed": false
   },
   "outputs": [
    {
     "name": "stdout",
     "output_type": "stream",
     "text": [
      "\"from\",\"to\"\r\n",
      "\"lexi\",\"sloan\"\r\n",
      "\"lexi\",\"karev\"\r\n",
      "\"owen\",\"yang\"\r\n",
      "\"owen\",\"altman\"\r\n",
      "\"sloan\",\"torres\"\r\n",
      "\"sloan\",\"altman\"\r\n",
      "\"torres\",\"arizona\"\r\n",
      "\"torres\",\"karev\"\r\n",
      "\"derek\",\"grey\"\r\n"
     ]
    }
   ],
   "source": [
    "# what does it look like? \n",
    "!head ../data/ga_edgelist.csv"
   ]
  },
  {
   "cell_type": "code",
   "execution_count": 17,
   "metadata": {
    "collapsed": true
   },
   "outputs": [],
   "source": [
    "path  = \"../data/\"\n",
    "edge_data  = \"ga_edgelist.csv\""
   ]
  },
  {
   "cell_type": "markdown",
   "metadata": {},
   "source": [
    "**Comments:**\n",
    "Reading in straight from the text file requires a bit of processing for us to handle, since networkx's methods don't handle header rows (\"from\" and \"to\") or quoted items. We can probably most simply handle this by opening the text file and creating a list."
   ]
  },
  {
   "cell_type": "code",
   "execution_count": 18,
   "metadata": {
    "collapsed": false
   },
   "outputs": [],
   "source": [
    "edges = []\n",
    "with open(path + edge_data, 'r') as f:\n",
    "    filereader = csv.reader(f, delimiter=\",\", quotechar='\"')\n",
    "    next(filereader) # skips header row\n",
    "    for row in filereader:\n",
    "            edges.append(row)"
   ]
  },
  {
   "cell_type": "code",
   "execution_count": 19,
   "metadata": {
    "collapsed": false
   },
   "outputs": [
    {
     "data": {
      "text/plain": [
       "[['lexi', 'sloan'],\n",
       " ['lexi', 'karev'],\n",
       " ['owen', 'yang'],\n",
       " ['owen', 'altman'],\n",
       " ['sloan', 'torres']]"
      ]
     },
     "execution_count": 19,
     "metadata": {},
     "output_type": "execute_result"
    }
   ],
   "source": [
    "edges[0:5]"
   ]
  },
  {
   "cell_type": "code",
   "execution_count": 20,
   "metadata": {
    "collapsed": false
   },
   "outputs": [],
   "source": [
    "GA = nx.from_edgelist(edges)"
   ]
  },
  {
   "cell_type": "code",
   "execution_count": 21,
   "metadata": {
    "collapsed": false
   },
   "outputs": [
    {
     "name": "stdout",
     "output_type": "stream",
     "text": [
      "Name: \n",
      "Type: Graph\n",
      "Number of nodes: 32\n",
      "Number of edges: 34\n",
      "Average degree:   2.1250\n"
     ]
    }
   ],
   "source": [
    "print(nx.info(GA))"
   ]
  },
  {
   "cell_type": "markdown",
   "metadata": {},
   "source": [
    "#### Mediating Data Processing through `pandas`\n",
    "Often times the data we'll want to use will probably be analyzed with `pandas`. Reading in our data to a `DataFrame` first saves us a bit of time writng code to open the files due to `read_csv` having sensible defaults around quoted characters and header rows."
   ]
  },
  {
   "cell_type": "code",
   "execution_count": 22,
   "metadata": {
    "collapsed": false
   },
   "outputs": [
    {
     "data": {
      "text/html": [
       "<div>\n",
       "<table border=\"1\" class=\"dataframe\">\n",
       "  <thead>\n",
       "    <tr style=\"text-align: right;\">\n",
       "      <th></th>\n",
       "      <th>from</th>\n",
       "      <th>to</th>\n",
       "    </tr>\n",
       "  </thead>\n",
       "  <tbody>\n",
       "    <tr>\n",
       "      <th>0</th>\n",
       "      <td>lexi</td>\n",
       "      <td>sloan</td>\n",
       "    </tr>\n",
       "    <tr>\n",
       "      <th>1</th>\n",
       "      <td>lexi</td>\n",
       "      <td>karev</td>\n",
       "    </tr>\n",
       "    <tr>\n",
       "      <th>2</th>\n",
       "      <td>owen</td>\n",
       "      <td>yang</td>\n",
       "    </tr>\n",
       "    <tr>\n",
       "      <th>3</th>\n",
       "      <td>owen</td>\n",
       "      <td>altman</td>\n",
       "    </tr>\n",
       "    <tr>\n",
       "      <th>4</th>\n",
       "      <td>sloan</td>\n",
       "      <td>torres</td>\n",
       "    </tr>\n",
       "  </tbody>\n",
       "</table>\n",
       "</div>"
      ],
      "text/plain": [
       "    from      to\n",
       "0   lexi   sloan\n",
       "1   lexi   karev\n",
       "2   owen    yang\n",
       "3   owen  altman\n",
       "4  sloan  torres"
      ]
     },
     "execution_count": 22,
     "metadata": {},
     "output_type": "execute_result"
    }
   ],
   "source": [
    "ga_edges = pd.read_csv(path + edge_data)\n",
    "\n",
    "ga_edges.head()"
   ]
  },
  {
   "cell_type": "code",
   "execution_count": 23,
   "metadata": {
    "collapsed": false
   },
   "outputs": [],
   "source": [
    "GA = nx.from_pandas_dataframe(ga_edges, source=\"from\", target=\"to\")"
   ]
  },
  {
   "cell_type": "code",
   "execution_count": 24,
   "metadata": {
    "collapsed": false
   },
   "outputs": [
    {
     "name": "stdout",
     "output_type": "stream",
     "text": [
      "Name: \n",
      "Type: Graph\n",
      "Number of nodes: 32\n",
      "Number of edges: 34\n",
      "Average degree:   2.1250\n"
     ]
    }
   ],
   "source": [
    "print(nx.info(GA))"
   ]
  },
  {
   "cell_type": "code",
   "execution_count": 25,
   "metadata": {
    "collapsed": false
   },
   "outputs": [
    {
     "data": {
      "image/png": "[encoded data removed]",
      "text/plain": [
       "<matplotlib.figure.Figure at 0x10afd72b0>"
      ]
     },
     "metadata": {},
     "output_type": "display_data"
    }
   ],
   "source": [
    "nx.draw_spring(GA, with_labels=True)"
   ]
  },
  {
   "cell_type": "markdown",
   "metadata": {},
   "source": [
    "### Adjacency Matrices\n",
    "A common way of representing graph data is through an `adjacency matrix` -- often referred to mathematically as `A`. This data structure is a square, `n x n` matrix where `n = number of nodes`. Each column and row is a node in the matrix. For any two nodes, `i` and `j` the value at `Aij` (row `i` and column `j`) represents the weight of the edge between nodes `i` and `j`.\n",
    "\n",
    "You can determine what type of graph you're dealing with from the adjacency matrix.\n",
    "\n",
    "- __Unweighted__: All values are binary - either 1 or 0\n",
    "- __Undirected__: The matrix is symmetric (`Aij = Aji`)"
   ]
  },
  {
   "cell_type": "code",
   "execution_count": 26,
   "metadata": {
    "collapsed": false
   },
   "outputs": [
    {
     "name": "stdout",
     "output_type": "stream",
     "text": [
      ",denny,kepner,grey,colin,finn,thatch grey,derek,nancy,tucker,hank,olivia,steve,ellis grey,o'malley,adele,lexi,altman,avery,mrs. seabury,arizona,owen,chief,karev,ben,preston,yang,sloan,torres,addison,bailey,susan grey,izzie\r\n",
      "denny,0.0,0.0,0.0,0.0,0.0,0.0,0.0,0.0,0.0,0.0,0.0,0.0,0.0,0.0,0.0,0.0,0.0,0.0,0.0,0.0,0.0,0.0,0.0,0.0,0.0,0.0,0.0,0.0,0.0,0.0,0.0,1.0\r\n",
      "kepner,0.0,0.0,0.0,0.0,0.0,0.0,0.0,0.0,0.0,0.0,0.0,0.0,0.0,0.0,0.0,0.0,0.0,0.0,0.0,0.0,0.0,0.0,1.0,0.0,0.0,0.0,0.0,0.0,0.0,0.0,0.0,0.0\r\n",
      "grey,0.0,0.0,0.0,0.0,1.0,0.0,1.0,0.0,0.0,0.0,0.0,1.0,0.0,1.0,0.0,0.0,0.0,0.0,0.0,0.0,0.0,0.0,0.0,0.0,0.0,0.0,0.0,0.0,0.0,0.0,0.0,0.0\r\n",
      "colin,0.0,0.0,0.0,0.0,0.0,0.0,0.0,0.0,0.0,0.0,0.0,0.0,0.0,0.0,0.0,0.0,0.0,0.0,0.0,0.0,0.0,0.0,0.0,0.0,0.0,1.0,0.0,0.0,0.0,0.0,0.0,0.0\r\n"
     ]
    }
   ],
   "source": [
    "!head -n 5 ../data/ga_adj.csv"
   ]
  },
  {
   "cell_type": "code",
   "execution_count": 27,
   "metadata": {
    "collapsed": false
   },
   "outputs": [],
   "source": [
    "ga_adj = pd.read_csv(path + 'ga_adj.csv', index_col=0)"
   ]
  },
  {
   "cell_type": "code",
   "execution_count": 28,
   "metadata": {
    "collapsed": false
   },
   "outputs": [
    {
     "data": {
      "text/html": [
       "<div>\n",
       "<table border=\"1\" class=\"dataframe\">\n",
       "  <thead>\n",
       "    <tr style=\"text-align: right;\">\n",
       "      <th></th>\n",
       "      <th>denny</th>\n",
       "      <th>kepner</th>\n",
       "      <th>grey</th>\n",
       "      <th>colin</th>\n",
       "      <th>finn</th>\n",
       "      <th>thatch grey</th>\n",
       "      <th>derek</th>\n",
       "      <th>nancy</th>\n",
       "      <th>tucker</th>\n",
       "      <th>hank</th>\n",
       "    </tr>\n",
       "  </thead>\n",
       "  <tbody>\n",
       "    <tr>\n",
       "      <th>denny</th>\n",
       "      <td>0.0</td>\n",
       "      <td>0.0</td>\n",
       "      <td>0.0</td>\n",
       "      <td>0.0</td>\n",
       "      <td>0.0</td>\n",
       "      <td>0.0</td>\n",
       "      <td>0.0</td>\n",
       "      <td>0.0</td>\n",
       "      <td>0.0</td>\n",
       "      <td>0.0</td>\n",
       "    </tr>\n",
       "    <tr>\n",
       "      <th>kepner</th>\n",
       "      <td>0.0</td>\n",
       "      <td>0.0</td>\n",
       "      <td>0.0</td>\n",
       "      <td>0.0</td>\n",
       "      <td>0.0</td>\n",
       "      <td>0.0</td>\n",
       "      <td>0.0</td>\n",
       "      <td>0.0</td>\n",
       "      <td>0.0</td>\n",
       "      <td>0.0</td>\n",
       "    </tr>\n",
       "    <tr>\n",
       "      <th>grey</th>\n",
       "      <td>0.0</td>\n",
       "      <td>0.0</td>\n",
       "      <td>0.0</td>\n",
       "      <td>0.0</td>\n",
       "      <td>1.0</td>\n",
       "      <td>0.0</td>\n",
       "      <td>1.0</td>\n",
       "      <td>0.0</td>\n",
       "      <td>0.0</td>\n",
       "      <td>0.0</td>\n",
       "    </tr>\n",
       "    <tr>\n",
       "      <th>colin</th>\n",
       "      <td>0.0</td>\n",
       "      <td>0.0</td>\n",
       "      <td>0.0</td>\n",
       "      <td>0.0</td>\n",
       "      <td>0.0</td>\n",
       "      <td>0.0</td>\n",
       "      <td>0.0</td>\n",
       "      <td>0.0</td>\n",
       "      <td>0.0</td>\n",
       "      <td>0.0</td>\n",
       "    </tr>\n",
       "    <tr>\n",
       "      <th>finn</th>\n",
       "      <td>0.0</td>\n",
       "      <td>0.0</td>\n",
       "      <td>1.0</td>\n",
       "      <td>0.0</td>\n",
       "      <td>0.0</td>\n",
       "      <td>0.0</td>\n",
       "      <td>0.0</td>\n",
       "      <td>0.0</td>\n",
       "      <td>0.0</td>\n",
       "      <td>0.0</td>\n",
       "    </tr>\n",
       "    <tr>\n",
       "      <th>thatch grey</th>\n",
       "      <td>0.0</td>\n",
       "      <td>0.0</td>\n",
       "      <td>0.0</td>\n",
       "      <td>0.0</td>\n",
       "      <td>0.0</td>\n",
       "      <td>0.0</td>\n",
       "      <td>0.0</td>\n",
       "      <td>0.0</td>\n",
       "      <td>0.0</td>\n",
       "      <td>0.0</td>\n",
       "    </tr>\n",
       "    <tr>\n",
       "      <th>derek</th>\n",
       "      <td>0.0</td>\n",
       "      <td>0.0</td>\n",
       "      <td>1.0</td>\n",
       "      <td>0.0</td>\n",
       "      <td>0.0</td>\n",
       "      <td>0.0</td>\n",
       "      <td>0.0</td>\n",
       "      <td>0.0</td>\n",
       "      <td>0.0</td>\n",
       "      <td>0.0</td>\n",
       "    </tr>\n",
       "    <tr>\n",
       "      <th>nancy</th>\n",
       "      <td>0.0</td>\n",
       "      <td>0.0</td>\n",
       "      <td>0.0</td>\n",
       "      <td>0.0</td>\n",
       "      <td>0.0</td>\n",
       "      <td>0.0</td>\n",
       "      <td>0.0</td>\n",
       "      <td>0.0</td>\n",
       "      <td>0.0</td>\n",
       "      <td>0.0</td>\n",
       "    </tr>\n",
       "    <tr>\n",
       "      <th>tucker</th>\n",
       "      <td>0.0</td>\n",
       "      <td>0.0</td>\n",
       "      <td>0.0</td>\n",
       "      <td>0.0</td>\n",
       "      <td>0.0</td>\n",
       "      <td>0.0</td>\n",
       "      <td>0.0</td>\n",
       "      <td>0.0</td>\n",
       "      <td>0.0</td>\n",
       "      <td>0.0</td>\n",
       "    </tr>\n",
       "    <tr>\n",
       "      <th>hank</th>\n",
       "      <td>0.0</td>\n",
       "      <td>0.0</td>\n",
       "      <td>0.0</td>\n",
       "      <td>0.0</td>\n",
       "      <td>0.0</td>\n",
       "      <td>0.0</td>\n",
       "      <td>0.0</td>\n",
       "      <td>0.0</td>\n",
       "      <td>0.0</td>\n",
       "      <td>0.0</td>\n",
       "    </tr>\n",
       "  </tbody>\n",
       "</table>\n",
       "</div>"
      ],
      "text/plain": [
       "             denny  kepner  grey  colin  finn  thatch grey  derek  nancy  \\\n",
       "denny          0.0     0.0   0.0    0.0   0.0          0.0    0.0    0.0   \n",
       "kepner         0.0     0.0   0.0    0.0   0.0          0.0    0.0    0.0   \n",
       "grey           0.0     0.0   0.0    0.0   1.0          0.0    1.0    0.0   \n",
       "colin          0.0     0.0   0.0    0.0   0.0          0.0    0.0    0.0   \n",
       "finn           0.0     0.0   1.0    0.0   0.0          0.0    0.0    0.0   \n",
       "thatch grey    0.0     0.0   0.0    0.0   0.0          0.0    0.0    0.0   \n",
       "derek          0.0     0.0   1.0    0.0   0.0          0.0    0.0    0.0   \n",
       "nancy          0.0     0.0   0.0    0.0   0.0          0.0    0.0    0.0   \n",
       "tucker         0.0     0.0   0.0    0.0   0.0          0.0    0.0    0.0   \n",
       "hank           0.0     0.0   0.0    0.0   0.0          0.0    0.0    0.0   \n",
       "\n",
       "             tucker  hank  \n",
       "denny           0.0   0.0  \n",
       "kepner          0.0   0.0  \n",
       "grey            0.0   0.0  \n",
       "colin           0.0   0.0  \n",
       "finn            0.0   0.0  \n",
       "thatch grey     0.0   0.0  \n",
       "derek           0.0   0.0  \n",
       "nancy           0.0   0.0  \n",
       "tucker          0.0   0.0  \n",
       "hank            0.0   0.0  "
      ]
     },
     "execution_count": 28,
     "metadata": {},
     "output_type": "execute_result"
    }
   ],
   "source": [
    "ga_adj.ix[0:10, 0:10]"
   ]
  },
  {
   "cell_type": "code",
   "execution_count": 29,
   "metadata": {
    "collapsed": false
   },
   "outputs": [],
   "source": [
    "GAAdj = nx.from_numpy_matrix(ga_adj.values)"
   ]
  },
  {
   "cell_type": "code",
   "execution_count": 30,
   "metadata": {
    "collapsed": false
   },
   "outputs": [
    {
     "name": "stdout",
     "output_type": "stream",
     "text": [
      "[0, 1, 2, 3, 4, 5, 6, 7, 8, 9, 10, 11, 12, 13, 14, 15, 16, 17, 18, 19, 20, 21, 22, 23, 24, 25, 26, 27, 28, 29, 30, 31]\n"
     ]
    }
   ],
   "source": [
    "# Numpy matrices don't have labels, so our node labels are the column/row indices from the adjacency matrix\n",
    "print(GAAdj.nodes())"
   ]
  },
  {
   "cell_type": "code",
   "execution_count": 31,
   "metadata": {
    "collapsed": false
   },
   "outputs": [],
   "source": [
    "label_mapping = dict(zip(GAAdj.nodes(), ga_adj.columns))\n",
    "\n",
    "GAAdj = nx.relabel_nodes(GAAdj, label_mapping)"
   ]
  },
  {
   "cell_type": "code",
   "execution_count": 32,
   "metadata": {
    "collapsed": false
   },
   "outputs": [
    {
     "data": {
      "image/png": "[encoded data removed]",
      "text/plain": [
       "<matplotlib.figure.Figure at 0x10b145550>"
      ]
     },
     "metadata": {},
     "output_type": "display_data"
    }
   ],
   "source": [
    "nx.draw_spring(GAAdj, with_labels=True)"
   ]
  },
  {
   "cell_type": "markdown",
   "metadata": {},
   "source": [
    "Are the two graphs the same? "
   ]
  },
  {
   "cell_type": "code",
   "execution_count": 33,
   "metadata": {
    "collapsed": false
   },
   "outputs": [
    {
     "name": "stdout",
     "output_type": "stream",
     "text": [
      "Same Graph Info?\n",
      "---\n",
      "Edge List Graph\n",
      " Name: \n",
      "Type: Graph\n",
      "Number of nodes: 32\n",
      "Number of edges: 34\n",
      "Average degree:   2.1250\n",
      "\n",
      "Adj. Matrix Graph\n",
      " Name: ()\n",
      "Type: Graph\n",
      "Number of nodes: 32\n",
      "Number of edges: 34\n",
      "Average degree:   2.1250\n",
      "\n",
      "===\n",
      "\n",
      "Isomorphic? True\n"
     ]
    }
   ],
   "source": [
    "# Easiest, least robust way:\n",
    "print(\"Same Graph Info?\\n---\")\n",
    "print(\"Edge List Graph\\n\", nx.info(GA))\n",
    "print(\"\")\n",
    "print(\"Adj. Matrix Graph\\n\", nx.info(GAAdj))\n",
    "\n",
    "# slightly better, intuitive way\n",
    "for node in GA.nodes():\n",
    "    # assert the node exists in the new graph\n",
    "    assert node in GAAdj.nodes()\n",
    "    \n",
    "    # assert the edges for that node are the same between graphs\n",
    "    assert sorted(GA[node].keys()) == sorted(GAAdj[node].keys())\n",
    "    \n",
    "# Fancy math way that checks additional conditions\n",
    "print(\"\\n===\\n\")\n",
    "print(\"Isomorphic?\", nx.is_isomorphic(GA, GAAdj))"
   ]
  },
  {
   "cell_type": "markdown",
   "metadata": {},
   "source": [
    "**Gotchas**"
   ]
  },
  {
   "cell_type": "code",
   "execution_count": 34,
   "metadata": {
    "collapsed": false
   },
   "outputs": [
    {
     "name": "stdout",
     "output_type": "stream",
     "text": [
      "'denny' From Edge List Graph: {'izzie': {}}\n",
      "'denny' From Adjacency Matrix Graph: {'izzie': {'weight': 1.0}}\n",
      "⚠️ Observation: Edge weights are inferred from adjacency matrix\n",
      "\n",
      "First Edge (sorted) from Edge List Graph: ('adele', 'chief', {})\n",
      "First Edge (sorted) from Adjacency Matrix Graph: ('adele', 'chief', {'weight': 1.0})\n",
      "⚠️ Observation: Source and Target are ambiguously defined in undirected graphs\n"
     ]
    }
   ],
   "source": [
    "print(\"'denny' From Edge List Graph:\", GA['denny'])\n",
    "print(\"'denny' From Adjacency Matrix Graph:\", GAAdj['denny'])\n",
    "print(\"⚠️ Observation: Edge weights are inferred from adjacency matrix\")\n",
    "print()\n",
    "print(\"First Edge (sorted) from Edge List Graph:\", sorted(nx.to_edgelist(GA))[0])\n",
    "print(\"First Edge (sorted) from Adjacency Matrix Graph:\", sorted(nx.to_edgelist(GAAdj))[0])\n",
    "print(\"⚠️ Observation: Source and Target are ambiguously defined in undirected graphs\")"
   ]
  },
  {
   "cell_type": "markdown",
   "metadata": {},
   "source": [
    "### Exporting Graphs\n",
    "We'll export the graph in `GEXF` format for easy loading into other programs. `GEXF` is short for Graph Exchange XML Format. \n",
    "\n",
    "We can also easily load `GEXF` files into network visualization software like `Gephi`, which makes this format convenient for exporting."
   ]
  },
  {
   "cell_type": "code",
   "execution_count": 35,
   "metadata": {
    "collapsed": false
   },
   "outputs": [],
   "source": [
    "nx.write_gexf(GA, path + 'ga_graph.gexf')"
   ]
  },
  {
   "cell_type": "markdown",
   "metadata": {},
   "source": [
    "---"
   ]
  },
  {
   "cell_type": "markdown",
   "metadata": {},
   "source": [
    "## Optional Topics\n",
    "### Adjacency Lists"
   ]
  },
  {
   "cell_type": "code",
   "execution_count": 77,
   "metadata": {
    "collapsed": false
   },
   "outputs": [
    {
     "data": {
      "text/plain": [
       "[('thatch grey', ['susan grey', 'ellis grey']),\n",
       " ('karev',\n",
       "  ['olivia', 'kepner', 'lexi', 'addison', 'izzie', 'mrs. seabury', 'torres']),\n",
       " ('altman', ['sloan', 'owen']),\n",
       " ('yang', ['colin', 'owen', 'preston']),\n",
       " ('mrs. seabury', ['karev'])]"
      ]
     },
     "execution_count": 77,
     "metadata": {},
     "output_type": "execute_result"
    }
   ],
   "source": [
    "# Adjacency List\n",
    "adjacency_list = list(nx.to_dict_of_lists(GA).items())\n",
    "adjacency_list[0:5]"
   ]
  },
  {
   "cell_type": "markdown",
   "metadata": {},
   "source": [
    "### Converting Incidence Matrices to Adjacency Matrices\n",
    "https://github.com/kjhealy/revere"
   ]
  },
  {
   "cell_type": "code",
   "execution_count": null,
   "metadata": {
    "collapsed": true
   },
   "outputs": [],
   "source": []
  }
 ],
 "metadata": {
  "kernelspec": {
   "display_name": "Python 3",
   "language": "python",
   "name": "python3"
  },
  "language_info": {
   "codemirror_mode": {
    "name": "ipython",
    "version": 3
   },
   "file_extension": ".py",
   "mimetype": "text/x-python",
   "name": "python",
   "nbconvert_exporter": "python",
   "pygments_lexer": "ipython3",
   "version": "3.5.2"
  }
 },
 "nbformat": 4,
 "nbformat_minor": 0
}
