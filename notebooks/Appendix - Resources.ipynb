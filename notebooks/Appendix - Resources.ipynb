{
 "cells": [
  {
   "cell_type": "markdown",
   "metadata": {},
   "source": [
    "## Difference between Network and Graph Theory:\n",
    "- [this Quora post](https://www.quora.com/What-is-the-difference-between-graph-theory-and-network-theory) for a good discussion outlining the differences.\n",
    "- http://barabasi.com/networksciencebook/chapter/2#networks-graphs Box 2.1\n",
    "\n",
    "## Resources:\n",
    "- http://barabasi.com/networksciencebook/\n",
    "- http://www.cs.cornell.edu/home/kleinber/networks-book/\n",
    "- http://faculty.ucr.edu/~hanneman/nettext/\n",
    "\n",
    "https://www.quora.com/What-are-the-best-books-on-network-theory\n",
    "\n",
    "Incidence Matrix trick: https://kieranhealy.org/blog/archives/2013/06/09/using-metadata-to-find-paul-revere/\n",
    "\n",
    "## Datasets:\n",
    "- This is the collaboration network between Jazz musicians. Each node is a Jazz musician and an edge denotes that two musicians have played together in a band. The data was collected in 2003. http://konect.uni-koblenz.de/networks/arenas-jazz"
   ]
  },
  {
   "cell_type": "markdown",
   "metadata": {},
   "source": [
    "https://plot.ly/ipython-notebooks/networks/\n"
   ]
  },
  {
   "cell_type": "code",
   "execution_count": null,
   "metadata": {
    "collapsed": true
   },
   "outputs": [],
   "source": []
  }
 ],
 "metadata": {
  "kernelspec": {
   "display_name": "Python 3",
   "language": "python",
   "name": "python3"
  },
  "language_info": {
   "codemirror_mode": {
    "name": "ipython",
    "version": 3
   },
   "file_extension": ".py",
   "mimetype": "text/x-python",
   "name": "python",
   "nbconvert_exporter": "python",
   "pygments_lexer": "ipython3",
   "version": "3.5.2"
  }
 },
 "nbformat": 4,
 "nbformat_minor": 0
}
