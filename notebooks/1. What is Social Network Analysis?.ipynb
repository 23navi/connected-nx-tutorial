{
 "cells": [
  {
   "cell_type": "markdown",
   "metadata": {},
   "source": [
    "# What is Social Network Analysis? \n",
    "\n",
    "- A short history, motivating examples, and terminology\n",
    "- Nodes\n",
    "- Edges\n",
    "- Adjacency\n",
    "- Attributes and Weights"
   ]
  },
  {
   "cell_type": "markdown",
   "metadata": {
    "collapsed": true
   },
   "source": [
    "### Let's start with some definitions\n",
    "\n",
    "__Social Network Analysis__: the application of _graph and network theory_ to investigate social structures.\n",
    "\n",
    "__Graph Theory:__ the study of graphs, which are mathematical structures used to model pairwise relations between objects.\n",
    "  * We'll spend time later in this notebook talking about different components of graphs.  \n",
    "\n",
    "__Network Theory:__ a part of graph theory: a network can be defined as a graph in which nodes and/or edges have attributes (e.g. names). \n",
    "\n",
    "  * Still think Graph and Network theory sounds the same?  Check out <a src=\"https://www.quora.com/What-is-the-difference-between-graph-theory-and-network-theory\">this Quora pos</a> for a good discussion outlining the differences.\n",
    "  \n",
    "Basically, if you have (1) entities and (2) relationships between entities, you have a network. SNA provides tools to systematically analyze these structures to draw meaning the connections.  To give you a better sense of what we're talking about, let's look at a few examples: "
   ]
  },
  {
   "cell_type": "markdown",
   "metadata": {},
   "source": [
    "### Example:  _15th Century Florentine Marriages_\n",
    "\n",
    "<img src=\"https://upload.wikimedia.org/wikipedia/commons/thumb/2/20/15th_Century_Florentine_Marriges_Data_from_Padgett_and_Ansell.pdf/page1-577px-15th_Century_Florentine_Marriges_Data_from_Padgett_and_Ansell.pdf.jpg\">\n",
    "\n",
    "[<a src=\"http://home.uchicago.edu/~jpadgett/papers/published/robust.pdf\">Padgett and Ansell, 1993</a>]"
   ]
  },
  {
   "cell_type": "markdown",
   "metadata": {},
   "source": [
    "The graph above is a marriage network of 16 influential Florentian families in the 1430s.  At this time in Renaissance Italy, the major families were essentially an oligarchy, controlling politics and money in the region.\n",
    "\n",
    "Based on this network, can you surmise which family ascended to power in the proceeding decades?\n",
    "\n",
    "By examining the right networks, we can understand which actors are the most central.  In this case, the network forecasts the Rise of the Medici's, even though they were not the most wealthy or most politically connected family at the time."
   ]
  },
  {
   "cell_type": "markdown",
   "metadata": {},
   "source": []
  },
  {
   "cell_type": "code",
   "execution_count": null,
   "metadata": {
    "collapsed": true
   },
   "outputs": [],
   "source": []
  }
 ],
 "metadata": {
  "kernelspec": {
   "display_name": "Python 3",
   "language": "python",
   "name": "python3"
  },
  "language_info": {
   "codemirror_mode": {
    "name": "ipython",
    "version": 3
   },
   "file_extension": ".py",
   "mimetype": "text/x-python",
   "name": "python",
   "nbconvert_exporter": "python",
   "pygments_lexer": "ipython3",
   "version": "3.4.5"
  }
 },
 "nbformat": 4,
 "nbformat_minor": 0
}
